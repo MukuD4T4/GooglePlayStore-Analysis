{
 "cells": [
  {
   "cell_type": "code",
   "execution_count": 1,
   "id": "0ebbc886",
   "metadata": {
    "_cell_guid": "b1076dfc-b9ad-4769-8c92-a6c4dae69d19",
    "_uuid": "8f2839f25d086af736a60e9eeb907d3b93b6e0e5",
    "execution": {
     "iopub.execute_input": "2022-06-15T09:24:26.069666Z",
     "iopub.status.busy": "2022-06-15T09:24:26.069007Z",
     "iopub.status.idle": "2022-06-15T09:24:27.249611Z",
     "shell.execute_reply": "2022-06-15T09:24:27.248636Z"
    },
    "papermill": {
     "duration": 1.198826,
     "end_time": "2022-06-15T09:24:27.252218",
     "exception": false,
     "start_time": "2022-06-15T09:24:26.053392",
     "status": "completed"
    },
    "tags": []
   },
   "outputs": [],
   "source": [
    "import numpy as np\n",
    "import pandas as pd\n",
    "import matplotlib.pyplot as plt\n",
    "import seaborn as sns"
   ]
  },
  {
   "cell_type": "markdown",
   "id": "13ef66cb",
   "metadata": {
    "papermill": {
     "duration": 0.012225,
     "end_time": "2022-06-15T09:24:27.277127",
     "exception": false,
     "start_time": "2022-06-15T09:24:27.264902",
     "status": "completed"
    },
    "tags": []
   },
   "source": [
    "## Ask\n",
    "1. What category is preferred the most.\n",
    "2. What factors are responsible for higher app rating by coutomers.\n",
    "3. What features can be added to a educational app to engage more teen students.\n",
    "4. What kind of apps should target adults.\n",
    "4. What are the top 5 paid apps in terms of rating and installs."
   ]
  },
  {
   "cell_type": "markdown",
   "id": "c5d55a61",
   "metadata": {
    "papermill": {
     "duration": 0.0121,
     "end_time": "2022-06-15T09:24:27.301749",
     "exception": false,
     "start_time": "2022-06-15T09:24:27.289649",
     "status": "completed"
    },
    "tags": []
   },
   "source": [
    "## Prepare"
   ]
  },
  {
   "cell_type": "code",
   "execution_count": 2,
   "id": "68e61737",
   "metadata": {
    "execution": {
     "iopub.execute_input": "2022-06-15T09:24:27.328958Z",
     "iopub.status.busy": "2022-06-15T09:24:27.328567Z",
     "iopub.status.idle": "2022-06-15T09:24:59.233644Z",
     "shell.execute_reply": "2022-06-15T09:24:59.232649Z"
    },
    "papermill": {
     "duration": 31.921414,
     "end_time": "2022-06-15T09:24:59.236145",
     "exception": false,
     "start_time": "2022-06-15T09:24:27.314731",
     "status": "completed"
    },
    "tags": []
   },
   "outputs": [],
   "source": [
    "df=pd.read_csv(\"../input/google-playstore-apps/Google-Playstore.csv\")"
   ]
  },
  {
   "cell_type": "code",
   "execution_count": 3,
   "id": "db599db8",
   "metadata": {
    "execution": {
     "iopub.execute_input": "2022-06-15T09:24:59.263234Z",
     "iopub.status.busy": "2022-06-15T09:24:59.262804Z",
     "iopub.status.idle": "2022-06-15T09:24:59.305117Z",
     "shell.execute_reply": "2022-06-15T09:24:59.304036Z"
    },
    "papermill": {
     "duration": 0.059528,
     "end_time": "2022-06-15T09:24:59.308276",
     "exception": false,
     "start_time": "2022-06-15T09:24:59.248748",
     "status": "completed"
    },
    "tags": []
   },
   "outputs": [
    {
     "data": {
      "text/html": [
       "<div>\n",
       "<style scoped>\n",
       "    .dataframe tbody tr th:only-of-type {\n",
       "        vertical-align: middle;\n",
       "    }\n",
       "\n",
       "    .dataframe tbody tr th {\n",
       "        vertical-align: top;\n",
       "    }\n",
       "\n",
       "    .dataframe thead th {\n",
       "        text-align: right;\n",
       "    }\n",
       "</style>\n",
       "<table border=\"1\" class=\"dataframe\">\n",
       "  <thead>\n",
       "    <tr style=\"text-align: right;\">\n",
       "      <th></th>\n",
       "      <th>App Name</th>\n",
       "      <th>App Id</th>\n",
       "      <th>Category</th>\n",
       "      <th>Rating</th>\n",
       "      <th>Rating Count</th>\n",
       "      <th>Installs</th>\n",
       "      <th>Minimum Installs</th>\n",
       "      <th>Maximum Installs</th>\n",
       "      <th>Free</th>\n",
       "      <th>Price</th>\n",
       "      <th>...</th>\n",
       "      <th>Developer Website</th>\n",
       "      <th>Developer Email</th>\n",
       "      <th>Released</th>\n",
       "      <th>Last Updated</th>\n",
       "      <th>Content Rating</th>\n",
       "      <th>Privacy Policy</th>\n",
       "      <th>Ad Supported</th>\n",
       "      <th>In App Purchases</th>\n",
       "      <th>Editors Choice</th>\n",
       "      <th>Scraped Time</th>\n",
       "    </tr>\n",
       "  </thead>\n",
       "  <tbody>\n",
       "    <tr>\n",
       "      <th>0</th>\n",
       "      <td>Gakondo</td>\n",
       "      <td>com.ishakwe.gakondo</td>\n",
       "      <td>Adventure</td>\n",
       "      <td>0.0</td>\n",
       "      <td>0.0</td>\n",
       "      <td>10+</td>\n",
       "      <td>10.0</td>\n",
       "      <td>15</td>\n",
       "      <td>True</td>\n",
       "      <td>0.0</td>\n",
       "      <td>...</td>\n",
       "      <td>https://beniyizibyose.tk/#/</td>\n",
       "      <td>jean21101999@gmail.com</td>\n",
       "      <td>Feb 26, 2020</td>\n",
       "      <td>Feb 26, 2020</td>\n",
       "      <td>Everyone</td>\n",
       "      <td>https://beniyizibyose.tk/projects/</td>\n",
       "      <td>False</td>\n",
       "      <td>False</td>\n",
       "      <td>False</td>\n",
       "      <td>2021-06-15 20:19:35</td>\n",
       "    </tr>\n",
       "    <tr>\n",
       "      <th>1</th>\n",
       "      <td>Ampere Battery Info</td>\n",
       "      <td>com.webserveis.batteryinfo</td>\n",
       "      <td>Tools</td>\n",
       "      <td>4.4</td>\n",
       "      <td>64.0</td>\n",
       "      <td>5,000+</td>\n",
       "      <td>5000.0</td>\n",
       "      <td>7662</td>\n",
       "      <td>True</td>\n",
       "      <td>0.0</td>\n",
       "      <td>...</td>\n",
       "      <td>https://webserveis.netlify.app/</td>\n",
       "      <td>webserveis@gmail.com</td>\n",
       "      <td>May 21, 2020</td>\n",
       "      <td>May 06, 2021</td>\n",
       "      <td>Everyone</td>\n",
       "      <td>https://dev4phones.wordpress.com/licencia-de-uso/</td>\n",
       "      <td>True</td>\n",
       "      <td>False</td>\n",
       "      <td>False</td>\n",
       "      <td>2021-06-15 20:19:35</td>\n",
       "    </tr>\n",
       "    <tr>\n",
       "      <th>2</th>\n",
       "      <td>Vibook</td>\n",
       "      <td>com.doantiepvien.crm</td>\n",
       "      <td>Productivity</td>\n",
       "      <td>0.0</td>\n",
       "      <td>0.0</td>\n",
       "      <td>50+</td>\n",
       "      <td>50.0</td>\n",
       "      <td>58</td>\n",
       "      <td>True</td>\n",
       "      <td>0.0</td>\n",
       "      <td>...</td>\n",
       "      <td>NaN</td>\n",
       "      <td>vnacrewit@gmail.com</td>\n",
       "      <td>Aug 9, 2019</td>\n",
       "      <td>Aug 19, 2019</td>\n",
       "      <td>Everyone</td>\n",
       "      <td>https://www.vietnamairlines.com/vn/en/terms-an...</td>\n",
       "      <td>False</td>\n",
       "      <td>False</td>\n",
       "      <td>False</td>\n",
       "      <td>2021-06-15 20:19:35</td>\n",
       "    </tr>\n",
       "    <tr>\n",
       "      <th>3</th>\n",
       "      <td>Smart City Trichy Public Service Vehicles 17UC...</td>\n",
       "      <td>cst.stJoseph.ug17ucs548</td>\n",
       "      <td>Communication</td>\n",
       "      <td>5.0</td>\n",
       "      <td>5.0</td>\n",
       "      <td>10+</td>\n",
       "      <td>10.0</td>\n",
       "      <td>19</td>\n",
       "      <td>True</td>\n",
       "      <td>0.0</td>\n",
       "      <td>...</td>\n",
       "      <td>http://www.climatesmarttech.com/</td>\n",
       "      <td>climatesmarttech2@gmail.com</td>\n",
       "      <td>Sep 10, 2018</td>\n",
       "      <td>Oct 13, 2018</td>\n",
       "      <td>Everyone</td>\n",
       "      <td>NaN</td>\n",
       "      <td>True</td>\n",
       "      <td>False</td>\n",
       "      <td>False</td>\n",
       "      <td>2021-06-15 20:19:35</td>\n",
       "    </tr>\n",
       "    <tr>\n",
       "      <th>4</th>\n",
       "      <td>GROW.me</td>\n",
       "      <td>com.horodyski.grower</td>\n",
       "      <td>Tools</td>\n",
       "      <td>0.0</td>\n",
       "      <td>0.0</td>\n",
       "      <td>100+</td>\n",
       "      <td>100.0</td>\n",
       "      <td>478</td>\n",
       "      <td>True</td>\n",
       "      <td>0.0</td>\n",
       "      <td>...</td>\n",
       "      <td>http://www.horodyski.com.pl</td>\n",
       "      <td>rmilekhorodyski@gmail.com</td>\n",
       "      <td>Feb 21, 2020</td>\n",
       "      <td>Nov 12, 2018</td>\n",
       "      <td>Everyone</td>\n",
       "      <td>http://www.horodyski.com.pl</td>\n",
       "      <td>False</td>\n",
       "      <td>False</td>\n",
       "      <td>False</td>\n",
       "      <td>2021-06-15 20:19:35</td>\n",
       "    </tr>\n",
       "  </tbody>\n",
       "</table>\n",
       "<p>5 rows × 24 columns</p>\n",
       "</div>"
      ],
      "text/plain": [
       "                                            App Name  \\\n",
       "0                                            Gakondo   \n",
       "1                                Ampere Battery Info   \n",
       "2                                             Vibook   \n",
       "3  Smart City Trichy Public Service Vehicles 17UC...   \n",
       "4                                            GROW.me   \n",
       "\n",
       "                       App Id       Category  Rating  Rating Count Installs  \\\n",
       "0         com.ishakwe.gakondo      Adventure     0.0           0.0      10+   \n",
       "1  com.webserveis.batteryinfo          Tools     4.4          64.0   5,000+   \n",
       "2        com.doantiepvien.crm   Productivity     0.0           0.0      50+   \n",
       "3     cst.stJoseph.ug17ucs548  Communication     5.0           5.0      10+   \n",
       "4        com.horodyski.grower          Tools     0.0           0.0     100+   \n",
       "\n",
       "   Minimum Installs  Maximum Installs  Free  Price  ...  \\\n",
       "0              10.0                15  True    0.0  ...   \n",
       "1            5000.0              7662  True    0.0  ...   \n",
       "2              50.0                58  True    0.0  ...   \n",
       "3              10.0                19  True    0.0  ...   \n",
       "4             100.0               478  True    0.0  ...   \n",
       "\n",
       "                  Developer Website              Developer Email  \\\n",
       "0       https://beniyizibyose.tk/#/       jean21101999@gmail.com   \n",
       "1   https://webserveis.netlify.app/         webserveis@gmail.com   \n",
       "2                               NaN          vnacrewit@gmail.com   \n",
       "3  http://www.climatesmarttech.com/  climatesmarttech2@gmail.com   \n",
       "4       http://www.horodyski.com.pl    rmilekhorodyski@gmail.com   \n",
       "\n",
       "       Released  Last Updated Content Rating  \\\n",
       "0  Feb 26, 2020  Feb 26, 2020       Everyone   \n",
       "1  May 21, 2020  May 06, 2021       Everyone   \n",
       "2   Aug 9, 2019  Aug 19, 2019       Everyone   \n",
       "3  Sep 10, 2018  Oct 13, 2018       Everyone   \n",
       "4  Feb 21, 2020  Nov 12, 2018       Everyone   \n",
       "\n",
       "                                      Privacy Policy Ad Supported  \\\n",
       "0                 https://beniyizibyose.tk/projects/        False   \n",
       "1  https://dev4phones.wordpress.com/licencia-de-uso/         True   \n",
       "2  https://www.vietnamairlines.com/vn/en/terms-an...        False   \n",
       "3                                                NaN         True   \n",
       "4                        http://www.horodyski.com.pl        False   \n",
       "\n",
       "  In App Purchases Editors Choice         Scraped Time  \n",
       "0            False          False  2021-06-15 20:19:35  \n",
       "1            False          False  2021-06-15 20:19:35  \n",
       "2            False          False  2021-06-15 20:19:35  \n",
       "3            False          False  2021-06-15 20:19:35  \n",
       "4            False          False  2021-06-15 20:19:35  \n",
       "\n",
       "[5 rows x 24 columns]"
      ]
     },
     "execution_count": 3,
     "metadata": {},
     "output_type": "execute_result"
    }
   ],
   "source": [
    "df.head(5)"
   ]
  },
  {
   "cell_type": "code",
   "execution_count": 4,
   "id": "17a02e48",
   "metadata": {
    "execution": {
     "iopub.execute_input": "2022-06-15T09:24:59.337663Z",
     "iopub.status.busy": "2022-06-15T09:24:59.337241Z",
     "iopub.status.idle": "2022-06-15T09:24:59.343286Z",
     "shell.execute_reply": "2022-06-15T09:24:59.342255Z"
    },
    "papermill": {
     "duration": 0.023495,
     "end_time": "2022-06-15T09:24:59.345356",
     "exception": false,
     "start_time": "2022-06-15T09:24:59.321861",
     "status": "completed"
    },
    "tags": []
   },
   "outputs": [
    {
     "data": {
      "text/plain": [
       "(2312944, 24)"
      ]
     },
     "execution_count": 4,
     "metadata": {},
     "output_type": "execute_result"
    }
   ],
   "source": [
    "df.shape"
   ]
  },
  {
   "cell_type": "code",
   "execution_count": 5,
   "id": "4a5a99ae",
   "metadata": {
    "execution": {
     "iopub.execute_input": "2022-06-15T09:24:59.373737Z",
     "iopub.status.busy": "2022-06-15T09:24:59.373289Z",
     "iopub.status.idle": "2022-06-15T09:24:59.379982Z",
     "shell.execute_reply": "2022-06-15T09:24:59.379040Z"
    },
    "papermill": {
     "duration": 0.023643,
     "end_time": "2022-06-15T09:24:59.382330",
     "exception": false,
     "start_time": "2022-06-15T09:24:59.358687",
     "status": "completed"
    },
    "tags": []
   },
   "outputs": [
    {
     "data": {
      "text/plain": [
       "Index(['App Name', 'App Id', 'Category', 'Rating', 'Rating Count', 'Installs',\n",
       "       'Minimum Installs', 'Maximum Installs', 'Free', 'Price', 'Currency',\n",
       "       'Size', 'Minimum Android', 'Developer Id', 'Developer Website',\n",
       "       'Developer Email', 'Released', 'Last Updated', 'Content Rating',\n",
       "       'Privacy Policy', 'Ad Supported', 'In App Purchases', 'Editors Choice',\n",
       "       'Scraped Time'],\n",
       "      dtype='object')"
      ]
     },
     "execution_count": 5,
     "metadata": {},
     "output_type": "execute_result"
    }
   ],
   "source": [
    "df.columns"
   ]
  },
  {
   "cell_type": "code",
   "execution_count": 6,
   "id": "05d64233",
   "metadata": {
    "execution": {
     "iopub.execute_input": "2022-06-15T09:24:59.411295Z",
     "iopub.status.busy": "2022-06-15T09:24:59.410851Z",
     "iopub.status.idle": "2022-06-15T09:24:59.434164Z",
     "shell.execute_reply": "2022-06-15T09:24:59.433077Z"
    },
    "papermill": {
     "duration": 0.040344,
     "end_time": "2022-06-15T09:24:59.436455",
     "exception": false,
     "start_time": "2022-06-15T09:24:59.396111",
     "status": "completed"
    },
    "tags": []
   },
   "outputs": [
    {
     "name": "stdout",
     "output_type": "stream",
     "text": [
      "<class 'pandas.core.frame.DataFrame'>\n",
      "RangeIndex: 2312944 entries, 0 to 2312943\n",
      "Data columns (total 24 columns):\n",
      " #   Column             Dtype  \n",
      "---  ------             -----  \n",
      " 0   App Name           object \n",
      " 1   App Id             object \n",
      " 2   Category           object \n",
      " 3   Rating             float64\n",
      " 4   Rating Count       float64\n",
      " 5   Installs           object \n",
      " 6   Minimum Installs   float64\n",
      " 7   Maximum Installs   int64  \n",
      " 8   Free               bool   \n",
      " 9   Price              float64\n",
      " 10  Currency           object \n",
      " 11  Size               object \n",
      " 12  Minimum Android    object \n",
      " 13  Developer Id       object \n",
      " 14  Developer Website  object \n",
      " 15  Developer Email    object \n",
      " 16  Released           object \n",
      " 17  Last Updated       object \n",
      " 18  Content Rating     object \n",
      " 19  Privacy Policy     object \n",
      " 20  Ad Supported       bool   \n",
      " 21  In App Purchases   bool   \n",
      " 22  Editors Choice     bool   \n",
      " 23  Scraped Time       object \n",
      "dtypes: bool(4), float64(4), int64(1), object(15)\n",
      "memory usage: 361.8+ MB\n"
     ]
    }
   ],
   "source": [
    "df.info()"
   ]
  },
  {
   "cell_type": "markdown",
   "id": "258b79f9",
   "metadata": {
    "papermill": {
     "duration": 0.01335,
     "end_time": "2022-06-15T09:24:59.463437",
     "exception": false,
     "start_time": "2022-06-15T09:24:59.450087",
     "status": "completed"
    },
    "tags": []
   },
   "source": [
    "## Process"
   ]
  },
  {
   "cell_type": "code",
   "execution_count": 7,
   "id": "51858e61",
   "metadata": {
    "execution": {
     "iopub.execute_input": "2022-06-15T09:24:59.492655Z",
     "iopub.status.busy": "2022-06-15T09:24:59.492187Z",
     "iopub.status.idle": "2022-06-15T09:25:16.205578Z",
     "shell.execute_reply": "2022-06-15T09:25:16.204531Z"
    },
    "papermill": {
     "duration": 16.730849,
     "end_time": "2022-06-15T09:25:16.208010",
     "exception": false,
     "start_time": "2022-06-15T09:24:59.477161",
     "status": "completed"
    },
    "tags": []
   },
   "outputs": [
    {
     "data": {
      "text/plain": [
       "Index(['AppName', 'AppId', 'Category', 'Rating', 'RatingCount', 'Installs',\n",
       "       'MinimumInstalls', 'MaximumInstalls', 'Free', 'Price', 'Currency',\n",
       "       'Size', 'MinimumAndroid', 'DeveloperId', 'DeveloperWebsite',\n",
       "       'DeveloperEmail', 'Released', 'LastUpdated', 'ContentRating',\n",
       "       'PrivacyPolicy', 'AdSupported', 'InAppPurchases', 'EditorsChoice',\n",
       "       'ScrapedTime'],\n",
       "      dtype='object')"
      ]
     },
     "execution_count": 7,
     "metadata": {},
     "output_type": "execute_result"
    }
   ],
   "source": [
    "for col in df.columns:\n",
    "    col1 = col.replace(' ','')\n",
    "    df = df.rename(columns={col:col1})\n",
    "df.columns"
   ]
  },
  {
   "cell_type": "code",
   "execution_count": 8,
   "id": "7a7e9163",
   "metadata": {
    "execution": {
     "iopub.execute_input": "2022-06-15T09:25:16.239654Z",
     "iopub.status.busy": "2022-06-15T09:25:16.238917Z",
     "iopub.status.idle": "2022-06-15T09:25:19.926810Z",
     "shell.execute_reply": "2022-06-15T09:25:19.925413Z"
    },
    "papermill": {
     "duration": 3.706963,
     "end_time": "2022-06-15T09:25:19.929761",
     "exception": false,
     "start_time": "2022-06-15T09:25:16.222798",
     "status": "completed"
    },
    "tags": []
   },
   "outputs": [
    {
     "name": "stdout",
     "output_type": "stream",
     "text": [
      "Columns containing the missing values\n"
     ]
    },
    {
     "data": {
      "text/plain": [
       "AppName              True\n",
       "AppId               False\n",
       "Category            False\n",
       "Rating               True\n",
       "RatingCount          True\n",
       "Installs             True\n",
       "MinimumInstalls      True\n",
       "MaximumInstalls     False\n",
       "Free                False\n",
       "Price               False\n",
       "Currency             True\n",
       "Size                 True\n",
       "MinimumAndroid       True\n",
       "DeveloperId          True\n",
       "DeveloperWebsite     True\n",
       "DeveloperEmail       True\n",
       "Released             True\n",
       "LastUpdated         False\n",
       "ContentRating       False\n",
       "PrivacyPolicy        True\n",
       "AdSupported         False\n",
       "InAppPurchases      False\n",
       "EditorsChoice       False\n",
       "ScrapedTime         False\n",
       "dtype: bool"
      ]
     },
     "execution_count": 8,
     "metadata": {},
     "output_type": "execute_result"
    }
   ],
   "source": [
    "print(\"Columns containing the missing values\")\n",
    "df.isnull().any()"
   ]
  },
  {
   "cell_type": "code",
   "execution_count": 9,
   "id": "09bb2c2f",
   "metadata": {
    "execution": {
     "iopub.execute_input": "2022-06-15T09:25:19.961489Z",
     "iopub.status.busy": "2022-06-15T09:25:19.960977Z",
     "iopub.status.idle": "2022-06-15T09:25:28.130177Z",
     "shell.execute_reply": "2022-06-15T09:25:28.129035Z"
    },
    "papermill": {
     "duration": 8.187896,
     "end_time": "2022-06-15T09:25:28.132447",
     "exception": false,
     "start_time": "2022-06-15T09:25:19.944551",
     "status": "completed"
    },
    "tags": []
   },
   "outputs": [
    {
     "name": "stdout",
     "output_type": "stream",
     "text": [
      "Number of rows having null values in the dataset:\n",
      "1025753  which is  44.35 %\n"
     ]
    }
   ],
   "source": [
    "print(\"Number of rows having null values in the dataset:\")\n",
    "missing_info = (len(df[df.isnull().any(axis=1)]) / len(df) )*100\n",
    "print(len(df[df.isnull().any(axis=1)]),' which is ' ,round(missing_info,2) , '%')\n"
   ]
  },
  {
   "cell_type": "code",
   "execution_count": 10,
   "id": "d4a3e289",
   "metadata": {
    "execution": {
     "iopub.execute_input": "2022-06-15T09:25:28.162797Z",
     "iopub.status.busy": "2022-06-15T09:25:28.161978Z",
     "iopub.status.idle": "2022-06-15T09:25:28.175216Z",
     "shell.execute_reply": "2022-06-15T09:25:28.173698Z"
    },
    "papermill": {
     "duration": 0.0307,
     "end_time": "2022-06-15T09:25:28.177665",
     "exception": false,
     "start_time": "2022-06-15T09:25:28.146965",
     "status": "completed"
    },
    "tags": []
   },
   "outputs": [
    {
     "name": "stdout",
     "output_type": "stream",
     "text": [
      "<class 'pandas.core.frame.DataFrame'>\n",
      "RangeIndex: 2312944 entries, 0 to 2312943\n",
      "Data columns (total 24 columns):\n",
      " #   Column            Dtype  \n",
      "---  ------            -----  \n",
      " 0   AppName           object \n",
      " 1   AppId             object \n",
      " 2   Category          object \n",
      " 3   Rating            float64\n",
      " 4   RatingCount       float64\n",
      " 5   Installs          object \n",
      " 6   MinimumInstalls   float64\n",
      " 7   MaximumInstalls   int64  \n",
      " 8   Free              bool   \n",
      " 9   Price             float64\n",
      " 10  Currency          object \n",
      " 11  Size              object \n",
      " 12  MinimumAndroid    object \n",
      " 13  DeveloperId       object \n",
      " 14  DeveloperWebsite  object \n",
      " 15  DeveloperEmail    object \n",
      " 16  Released          object \n",
      " 17  LastUpdated       object \n",
      " 18  ContentRating     object \n",
      " 19  PrivacyPolicy     object \n",
      " 20  AdSupported       bool   \n",
      " 21  InAppPurchases    bool   \n",
      " 22  EditorsChoice     bool   \n",
      " 23  ScrapedTime       object \n",
      "dtypes: bool(4), float64(4), int64(1), object(15)\n",
      "memory usage: 361.8+ MB\n"
     ]
    }
   ],
   "source": [
    "df.info()"
   ]
  },
  {
   "cell_type": "code",
   "execution_count": 11,
   "id": "db2497ff",
   "metadata": {
    "execution": {
     "iopub.execute_input": "2022-06-15T09:25:28.208297Z",
     "iopub.status.busy": "2022-06-15T09:25:28.207523Z",
     "iopub.status.idle": "2022-06-15T09:25:31.914529Z",
     "shell.execute_reply": "2022-06-15T09:25:31.913541Z"
    },
    "papermill": {
     "duration": 3.724596,
     "end_time": "2022-06-15T09:25:31.916818",
     "exception": false,
     "start_time": "2022-06-15T09:25:28.192222",
     "status": "completed"
    },
    "tags": []
   },
   "outputs": [
    {
     "data": {
      "text/plain": [
       "AppName                  2\n",
       "AppId                    0\n",
       "Category                 0\n",
       "Rating               22883\n",
       "RatingCount          22883\n",
       "Installs               107\n",
       "MinimumInstalls        107\n",
       "MaximumInstalls          0\n",
       "Free                     0\n",
       "Price                    0\n",
       "Currency               135\n",
       "Size                   196\n",
       "MinimumAndroid        6530\n",
       "DeveloperId             33\n",
       "DeveloperWebsite    760835\n",
       "DeveloperEmail          31\n",
       "Released             71053\n",
       "LastUpdated              0\n",
       "ContentRating            0\n",
       "PrivacyPolicy       420953\n",
       "AdSupported              0\n",
       "InAppPurchases           0\n",
       "EditorsChoice            0\n",
       "ScrapedTime              0\n",
       "dtype: int64"
      ]
     },
     "execution_count": 11,
     "metadata": {},
     "output_type": "execute_result"
    }
   ],
   "source": [
    "df.isnull().sum()"
   ]
  },
  {
   "cell_type": "code",
   "execution_count": 12,
   "id": "390a0003",
   "metadata": {
    "execution": {
     "iopub.execute_input": "2022-06-15T09:25:31.947829Z",
     "iopub.status.busy": "2022-06-15T09:25:31.947409Z",
     "iopub.status.idle": "2022-06-15T09:25:37.192342Z",
     "shell.execute_reply": "2022-06-15T09:25:37.191296Z"
    },
    "papermill": {
     "duration": 5.263215,
     "end_time": "2022-06-15T09:25:37.195003",
     "exception": false,
     "start_time": "2022-06-15T09:25:31.931788",
     "status": "completed"
    },
    "tags": []
   },
   "outputs": [
    {
     "data": {
      "text/plain": [
       "AppName                  0\n",
       "AppId                    0\n",
       "Category                 0\n",
       "Rating               22581\n",
       "RatingCount          22581\n",
       "Installs                 0\n",
       "MinimumInstalls          0\n",
       "MaximumInstalls          0\n",
       "Free                     0\n",
       "Price                    0\n",
       "Currency                28\n",
       "Size                     0\n",
       "MinimumAndroid        6530\n",
       "DeveloperId             33\n",
       "DeveloperWebsite    760733\n",
       "DeveloperEmail          31\n",
       "Released             70758\n",
       "LastUpdated              0\n",
       "ContentRating            0\n",
       "PrivacyPolicy       420880\n",
       "AdSupported              0\n",
       "InAppPurchases           0\n",
       "EditorsChoice            0\n",
       "ScrapedTime              0\n",
       "dtype: int64"
      ]
     },
     "execution_count": 12,
     "metadata": {},
     "output_type": "execute_result"
    }
   ],
   "source": [
    "df.dropna(subset=[\"Size\",\"MinimumInstalls\",\"AppName\",\"Installs\"],inplace=True)\n",
    "df.isnull().sum()"
   ]
  },
  {
   "cell_type": "markdown",
   "id": "90471564",
   "metadata": {
    "papermill": {
     "duration": 0.014603,
     "end_time": "2022-06-15T09:25:37.224802",
     "exception": false,
     "start_time": "2022-06-15T09:25:37.210199",
     "status": "completed"
    },
    "tags": []
   },
   "source": [
    "Now lets clean *content rating* column"
   ]
  },
  {
   "cell_type": "code",
   "execution_count": 13,
   "id": "b2701724",
   "metadata": {
    "execution": {
     "iopub.execute_input": "2022-06-15T09:25:37.257818Z",
     "iopub.status.busy": "2022-06-15T09:25:37.257422Z",
     "iopub.status.idle": "2022-06-15T09:25:37.635501Z",
     "shell.execute_reply": "2022-06-15T09:25:37.634105Z"
    },
    "papermill": {
     "duration": 0.397864,
     "end_time": "2022-06-15T09:25:37.638369",
     "exception": false,
     "start_time": "2022-06-15T09:25:37.240505",
     "status": "completed"
    },
    "tags": []
   },
   "outputs": [
    {
     "data": {
      "text/plain": [
       "Everyone           2021869\n",
       "Teen                196318\n",
       "Mature 17+           60280\n",
       "Everyone 10+         33883\n",
       "Unrated                154\n",
       "Adults only 18+        136\n",
       "Name: ContentRating, dtype: int64"
      ]
     },
     "execution_count": 13,
     "metadata": {},
     "output_type": "execute_result"
    }
   ],
   "source": [
    "df[\"ContentRating\"].value_counts()"
   ]
  },
  {
   "cell_type": "code",
   "execution_count": 14,
   "id": "ad90ed5f",
   "metadata": {
    "execution": {
     "iopub.execute_input": "2022-06-15T09:25:37.670787Z",
     "iopub.status.busy": "2022-06-15T09:25:37.670283Z",
     "iopub.status.idle": "2022-06-15T09:25:38.059116Z",
     "shell.execute_reply": "2022-06-15T09:25:38.058102Z"
    },
    "papermill": {
     "duration": 0.408006,
     "end_time": "2022-06-15T09:25:38.061628",
     "exception": false,
     "start_time": "2022-06-15T09:25:37.653622",
     "status": "completed"
    },
    "tags": []
   },
   "outputs": [],
   "source": [
    "df[\"ContentRating\"]=df[\"ContentRating\"].replace(\"Unrated\",\"Everyone\")\n",
    "df[\"ContentRating\"]=df[\"ContentRating\"].replace(\"Everyone 10+\",\"Everyone\")\n",
    "df[\"ContentRating\"]=df[\"ContentRating\"].replace(\"Adults only 18+\",\"Adults\")"
   ]
  },
  {
   "cell_type": "markdown",
   "id": "a60aa552",
   "metadata": {
    "papermill": {
     "duration": 0.014536,
     "end_time": "2022-06-15T09:25:38.091588",
     "exception": false,
     "start_time": "2022-06-15T09:25:38.077052",
     "status": "completed"
    },
    "tags": []
   },
   "source": [
    "Now lets clean *Install* column"
   ]
  },
  {
   "cell_type": "code",
   "execution_count": 15,
   "id": "d8802aa9",
   "metadata": {
    "execution": {
     "iopub.execute_input": "2022-06-15T09:25:38.122327Z",
     "iopub.status.busy": "2022-06-15T09:25:38.121897Z",
     "iopub.status.idle": "2022-06-15T09:25:45.986822Z",
     "shell.execute_reply": "2022-06-15T09:25:45.985175Z"
    },
    "papermill": {
     "duration": 7.884076,
     "end_time": "2022-06-15T09:25:45.989837",
     "exception": false,
     "start_time": "2022-06-15T09:25:38.105761",
     "status": "completed"
    },
    "tags": []
   },
   "outputs": [
    {
     "name": "stderr",
     "output_type": "stream",
     "text": [
      "/opt/conda/lib/python3.7/site-packages/ipykernel_launcher.py:2: FutureWarning: The default value of regex will change from True to False in a future version. In addition, single character regular expressions will *not* be treated as literal strings when regex=True.\n",
      "  \n"
     ]
    }
   ],
   "source": [
    "df.Installs = df.Installs.str.replace(',','')\n",
    "df.Installs = df.Installs.str.replace('+','')\n",
    "df.Installs = df.Installs.str.replace('Free','0')\n",
    "df['Installs'] = pd.to_numeric(df['Installs'])"
   ]
  },
  {
   "cell_type": "markdown",
   "id": "5bd20494",
   "metadata": {
    "papermill": {
     "duration": 0.014488,
     "end_time": "2022-06-15T09:25:46.019230",
     "exception": false,
     "start_time": "2022-06-15T09:25:46.004742",
     "status": "completed"
    },
    "tags": []
   },
   "source": [
    "Now lets clean *Price* column"
   ]
  },
  {
   "cell_type": "code",
   "execution_count": 16,
   "id": "9df85c00",
   "metadata": {
    "execution": {
     "iopub.execute_input": "2022-06-15T09:25:46.050573Z",
     "iopub.status.busy": "2022-06-15T09:25:46.049897Z",
     "iopub.status.idle": "2022-06-15T09:25:46.120541Z",
     "shell.execute_reply": "2022-06-15T09:25:46.119351Z"
    },
    "papermill": {
     "duration": 0.089438,
     "end_time": "2022-06-15T09:25:46.122897",
     "exception": false,
     "start_time": "2022-06-15T09:25:46.033459",
     "status": "completed"
    },
    "tags": []
   },
   "outputs": [
    {
     "data": {
      "text/plain": [
       "Free    2267708\n",
       "Low       41968\n",
       "Mid        2092\n",
       "High        872\n",
       "Name: PriceRange, dtype: int64"
      ]
     },
     "execution_count": 16,
     "metadata": {},
     "output_type": "execute_result"
    }
   ],
   "source": [
    "df['PriceRange'] = pd.cut(df['Price'],bins=[0,0.19,9.99,29.99,410],labels=['Free','Low','Mid','High'],include_lowest=True)\n",
    "df['PriceRange'].value_counts()"
   ]
  },
  {
   "cell_type": "markdown",
   "id": "586e82c2",
   "metadata": {
    "papermill": {
     "duration": 0.015209,
     "end_time": "2022-06-15T09:25:46.152990",
     "exception": false,
     "start_time": "2022-06-15T09:25:46.137781",
     "status": "completed"
    },
    "tags": []
   },
   "source": [
    "Now lets clean *Free* column and combine them in *Type*"
   ]
  },
  {
   "cell_type": "code",
   "execution_count": 17,
   "id": "c0ddddbb",
   "metadata": {
    "execution": {
     "iopub.execute_input": "2022-06-15T09:25:46.184808Z",
     "iopub.status.busy": "2022-06-15T09:25:46.184424Z",
     "iopub.status.idle": "2022-06-15T09:25:48.580667Z",
     "shell.execute_reply": "2022-06-15T09:25:48.579884Z"
    },
    "papermill": {
     "duration": 2.414299,
     "end_time": "2022-06-15T09:25:48.582926",
     "exception": false,
     "start_time": "2022-06-15T09:25:46.168627",
     "status": "completed"
    },
    "tags": []
   },
   "outputs": [],
   "source": [
    "df['Type'] = np.where(df['Free'] == True,'Free','Paid')\n",
    "df.drop(['Free'],inplace=True,axis=1)"
   ]
  },
  {
   "cell_type": "code",
   "execution_count": 18,
   "id": "dca09c22",
   "metadata": {
    "execution": {
     "iopub.execute_input": "2022-06-15T09:25:48.613592Z",
     "iopub.status.busy": "2022-06-15T09:25:48.613038Z",
     "iopub.status.idle": "2022-06-15T09:25:48.844182Z",
     "shell.execute_reply": "2022-06-15T09:25:48.842293Z"
    },
    "papermill": {
     "duration": 0.250018,
     "end_time": "2022-06-15T09:25:48.847342",
     "exception": false,
     "start_time": "2022-06-15T09:25:48.597324",
     "status": "completed"
    },
    "tags": []
   },
   "outputs": [
    {
     "name": "stdout",
     "output_type": "stream",
     "text": [
      "<class 'pandas.core.frame.DataFrame'>\n",
      "Int64Index: 2312640 entries, 0 to 2312943\n",
      "Data columns (total 25 columns):\n",
      " #   Column            Dtype   \n",
      "---  ------            -----   \n",
      " 0   AppName           object  \n",
      " 1   AppId             object  \n",
      " 2   Category          object  \n",
      " 3   Rating            float64 \n",
      " 4   RatingCount       float64 \n",
      " 5   Installs          int64   \n",
      " 6   MinimumInstalls   float64 \n",
      " 7   MaximumInstalls   int64   \n",
      " 8   Price             float64 \n",
      " 9   Currency          object  \n",
      " 10  Size              object  \n",
      " 11  MinimumAndroid    object  \n",
      " 12  DeveloperId       object  \n",
      " 13  DeveloperWebsite  object  \n",
      " 14  DeveloperEmail    object  \n",
      " 15  Released          object  \n",
      " 16  LastUpdated       object  \n",
      " 17  ContentRating     object  \n",
      " 18  PrivacyPolicy     object  \n",
      " 19  AdSupported       bool    \n",
      " 20  InAppPurchases    bool    \n",
      " 21  EditorsChoice     bool    \n",
      " 22  ScrapedTime       object  \n",
      " 23  PriceRange        category\n",
      " 24  Type              object  \n",
      "dtypes: bool(3), category(1), float64(4), int64(2), object(15)\n",
      "memory usage: 397.0+ MB\n"
     ]
    }
   ],
   "source": [
    "df.info()"
   ]
  },
  {
   "cell_type": "code",
   "execution_count": 19,
   "id": "2aa9675c",
   "metadata": {
    "execution": {
     "iopub.execute_input": "2022-06-15T09:25:48.879581Z",
     "iopub.status.busy": "2022-06-15T09:25:48.879145Z",
     "iopub.status.idle": "2022-06-15T09:25:49.304045Z",
     "shell.execute_reply": "2022-06-15T09:25:49.302980Z"
    },
    "papermill": {
     "duration": 0.44372,
     "end_time": "2022-06-15T09:25:49.306499",
     "exception": false,
     "start_time": "2022-06-15T09:25:48.862779",
     "status": "completed"
    },
    "tags": []
   },
   "outputs": [
    {
     "data": {
      "text/plain": [
       "Free    2267680\n",
       "Paid      44960\n",
       "Name: Type, dtype: int64"
      ]
     },
     "execution_count": 19,
     "metadata": {},
     "output_type": "execute_result"
    }
   ],
   "source": [
    "df[\"Type\"].value_counts()"
   ]
  },
  {
   "cell_type": "markdown",
   "id": "e69ece3c",
   "metadata": {
    "papermill": {
     "duration": 0.015852,
     "end_time": "2022-06-15T09:25:49.337853",
     "exception": false,
     "start_time": "2022-06-15T09:25:49.322001",
     "status": "completed"
    },
    "tags": []
   },
   "source": [
    "Now lets clean *rating* column"
   ]
  },
  {
   "cell_type": "code",
   "execution_count": 20,
   "id": "70576bfb",
   "metadata": {
    "execution": {
     "iopub.execute_input": "2022-06-15T09:25:49.371637Z",
     "iopub.status.busy": "2022-06-15T09:25:49.371179Z",
     "iopub.status.idle": "2022-06-15T09:25:49.808519Z",
     "shell.execute_reply": "2022-06-15T09:25:49.807398Z"
    },
    "papermill": {
     "duration": 0.457201,
     "end_time": "2022-06-15T09:25:49.810876",
     "exception": false,
     "start_time": "2022-06-15T09:25:49.353675",
     "status": "completed"
    },
    "tags": []
   },
   "outputs": [
    {
     "data": {
      "text/plain": [
       "Less than 10K           1192853\n",
       "NoRatingProvided        1082343\n",
       "Between 10K and 500K      35779\n",
       "More than 500K             1665\n",
       "Name: RatingType, dtype: int64"
      ]
     },
     "execution_count": 20,
     "metadata": {},
     "output_type": "execute_result"
    }
   ],
   "source": [
    "df['RatingType'] = 'NoRatingProvided'\n",
    "df.loc[(df['RatingCount'] > 0) & (df['RatingCount'] <= 10000.0),'RatingType'] = 'Less than 10K'\n",
    "df.loc[(df['RatingCount'] > 10000) & (df['RatingCount'] <= 500000.0),'RatingType'] = 'Between 10K and 500K'\n",
    "df.loc[(df['RatingCount'] > 500000) & (df['RatingCount'] <= 138557570.0),'RatingType'] = 'More than 500K'\n",
    "df.RatingType.value_counts()"
   ]
  },
  {
   "cell_type": "code",
   "execution_count": 21,
   "id": "b174623c",
   "metadata": {
    "execution": {
     "iopub.execute_input": "2022-06-15T09:25:49.844884Z",
     "iopub.status.busy": "2022-06-15T09:25:49.843632Z",
     "iopub.status.idle": "2022-06-15T09:25:49.857109Z",
     "shell.execute_reply": "2022-06-15T09:25:49.855629Z"
    },
    "papermill": {
     "duration": 0.032806,
     "end_time": "2022-06-15T09:25:49.859300",
     "exception": false,
     "start_time": "2022-06-15T09:25:49.826494",
     "status": "completed"
    },
    "tags": []
   },
   "outputs": [
    {
     "name": "stdout",
     "output_type": "stream",
     "text": [
      "<class 'pandas.core.frame.DataFrame'>\n",
      "Int64Index: 2312640 entries, 0 to 2312943\n",
      "Data columns (total 26 columns):\n",
      " #   Column            Dtype   \n",
      "---  ------            -----   \n",
      " 0   AppName           object  \n",
      " 1   AppId             object  \n",
      " 2   Category          object  \n",
      " 3   Rating            float64 \n",
      " 4   RatingCount       float64 \n",
      " 5   Installs          int64   \n",
      " 6   MinimumInstalls   float64 \n",
      " 7   MaximumInstalls   int64   \n",
      " 8   Price             float64 \n",
      " 9   Currency          object  \n",
      " 10  Size              object  \n",
      " 11  MinimumAndroid    object  \n",
      " 12  DeveloperId       object  \n",
      " 13  DeveloperWebsite  object  \n",
      " 14  DeveloperEmail    object  \n",
      " 15  Released          object  \n",
      " 16  LastUpdated       object  \n",
      " 17  ContentRating     object  \n",
      " 18  PrivacyPolicy     object  \n",
      " 19  AdSupported       bool    \n",
      " 20  InAppPurchases    bool    \n",
      " 21  EditorsChoice     bool    \n",
      " 22  ScrapedTime       object  \n",
      " 23  PriceRange        category\n",
      " 24  Type              object  \n",
      " 25  RatingType        object  \n",
      "dtypes: bool(3), category(1), float64(4), int64(2), object(16)\n",
      "memory usage: 414.6+ MB\n"
     ]
    }
   ],
   "source": [
    "df.info()"
   ]
  },
  {
   "cell_type": "markdown",
   "id": "042f0e49",
   "metadata": {
    "papermill": {
     "duration": 0.015168,
     "end_time": "2022-06-15T09:25:49.889961",
     "exception": false,
     "start_time": "2022-06-15T09:25:49.874793",
     "status": "completed"
    },
    "tags": []
   },
   "source": [
    "## Analyze"
   ]
  },
  {
   "cell_type": "code",
   "execution_count": 22,
   "id": "840dd1db",
   "metadata": {
    "execution": {
     "iopub.execute_input": "2022-06-15T09:25:49.924205Z",
     "iopub.status.busy": "2022-06-15T09:25:49.923783Z",
     "iopub.status.idle": "2022-06-15T09:25:52.066216Z",
     "shell.execute_reply": "2022-06-15T09:25:52.065394Z"
    },
    "papermill": {
     "duration": 2.162772,
     "end_time": "2022-06-15T09:25:52.068469",
     "exception": false,
     "start_time": "2022-06-15T09:25:49.905697",
     "status": "completed"
    },
    "tags": []
   },
   "outputs": [
    {
     "name": "stdout",
     "output_type": "stream",
     "text": [
      "Top 3 choices of teens\n"
     ]
    },
    {
     "data": {
      "text/html": [
       "<div>\n",
       "<style scoped>\n",
       "    .dataframe tbody tr th:only-of-type {\n",
       "        vertical-align: middle;\n",
       "    }\n",
       "\n",
       "    .dataframe tbody tr th {\n",
       "        vertical-align: top;\n",
       "    }\n",
       "\n",
       "    .dataframe thead th {\n",
       "        text-align: right;\n",
       "    }\n",
       "</style>\n",
       "<table border=\"1\" class=\"dataframe\">\n",
       "  <thead>\n",
       "    <tr style=\"text-align: right;\">\n",
       "      <th></th>\n",
       "      <th>AppName</th>\n",
       "      <th>AppId</th>\n",
       "      <th>Category</th>\n",
       "      <th>Rating</th>\n",
       "      <th>RatingCount</th>\n",
       "      <th>Installs</th>\n",
       "      <th>MinimumInstalls</th>\n",
       "      <th>MaximumInstalls</th>\n",
       "      <th>Price</th>\n",
       "      <th>Currency</th>\n",
       "      <th>...</th>\n",
       "      <th>LastUpdated</th>\n",
       "      <th>ContentRating</th>\n",
       "      <th>PrivacyPolicy</th>\n",
       "      <th>AdSupported</th>\n",
       "      <th>InAppPurchases</th>\n",
       "      <th>EditorsChoice</th>\n",
       "      <th>ScrapedTime</th>\n",
       "      <th>PriceRange</th>\n",
       "      <th>Type</th>\n",
       "      <th>RatingType</th>\n",
       "    </tr>\n",
       "  </thead>\n",
       "  <tbody>\n",
       "    <tr>\n",
       "      <th>881403</th>\n",
       "      <td>YouTube</td>\n",
       "      <td>com.google.android.youtube</td>\n",
       "      <td>Video Players &amp; Editors</td>\n",
       "      <td>4.4</td>\n",
       "      <td>112440547.0</td>\n",
       "      <td>5000000000</td>\n",
       "      <td>5.000000e+09</td>\n",
       "      <td>9766230924</td>\n",
       "      <td>0.0</td>\n",
       "      <td>USD</td>\n",
       "      <td>...</td>\n",
       "      <td>Jun 16, 2021</td>\n",
       "      <td>Teen</td>\n",
       "      <td>http://www.google.com/policies/privacy</td>\n",
       "      <td>True</td>\n",
       "      <td>False</td>\n",
       "      <td>False</td>\n",
       "      <td>2021-06-16 10:28:37</td>\n",
       "      <td>Free</td>\n",
       "      <td>Free</td>\n",
       "      <td>More than 500K</td>\n",
       "    </tr>\n",
       "    <tr>\n",
       "      <th>2222701</th>\n",
       "      <td>Facebook</td>\n",
       "      <td>com.facebook.katana</td>\n",
       "      <td>Social</td>\n",
       "      <td>2.3</td>\n",
       "      <td>117850066.0</td>\n",
       "      <td>5000000000</td>\n",
       "      <td>5.000000e+09</td>\n",
       "      <td>6782619635</td>\n",
       "      <td>0.0</td>\n",
       "      <td>USD</td>\n",
       "      <td>...</td>\n",
       "      <td>Jun 16, 2021</td>\n",
       "      <td>Teen</td>\n",
       "      <td>https://www.facebook.com/about/privacy/</td>\n",
       "      <td>True</td>\n",
       "      <td>True</td>\n",
       "      <td>False</td>\n",
       "      <td>2021-06-16 11:40:20</td>\n",
       "      <td>Free</td>\n",
       "      <td>Free</td>\n",
       "      <td>More than 500K</td>\n",
       "    </tr>\n",
       "    <tr>\n",
       "      <th>167781</th>\n",
       "      <td>Google TV (previously Play Movies &amp; TV)</td>\n",
       "      <td>com.google.android.videos</td>\n",
       "      <td>Video Players &amp; Editors</td>\n",
       "      <td>4.0</td>\n",
       "      <td>1825673.0</td>\n",
       "      <td>5000000000</td>\n",
       "      <td>5.000000e+09</td>\n",
       "      <td>6156518915</td>\n",
       "      <td>0.0</td>\n",
       "      <td>USD</td>\n",
       "      <td>...</td>\n",
       "      <td>Jun 14, 2021</td>\n",
       "      <td>Teen</td>\n",
       "      <td>http://www.google.com/policies/privacy</td>\n",
       "      <td>False</td>\n",
       "      <td>False</td>\n",
       "      <td>False</td>\n",
       "      <td>2021-06-15 23:07:22</td>\n",
       "      <td>Free</td>\n",
       "      <td>Free</td>\n",
       "      <td>More than 500K</td>\n",
       "    </tr>\n",
       "    <tr>\n",
       "      <th>1643722</th>\n",
       "      <td>Google Play Games</td>\n",
       "      <td>com.google.android.play.games</td>\n",
       "      <td>Entertainment</td>\n",
       "      <td>4.3</td>\n",
       "      <td>12016421.0</td>\n",
       "      <td>1000000000</td>\n",
       "      <td>1.000000e+09</td>\n",
       "      <td>4605543029</td>\n",
       "      <td>0.0</td>\n",
       "      <td>USD</td>\n",
       "      <td>...</td>\n",
       "      <td>Apr 26, 2021</td>\n",
       "      <td>Teen</td>\n",
       "      <td>http://www.google.com/policies/privacy</td>\n",
       "      <td>False</td>\n",
       "      <td>False</td>\n",
       "      <td>False</td>\n",
       "      <td>2021-06-16 03:24:06</td>\n",
       "      <td>Free</td>\n",
       "      <td>Free</td>\n",
       "      <td>More than 500K</td>\n",
       "    </tr>\n",
       "    <tr>\n",
       "      <th>1108596</th>\n",
       "      <td>Currents</td>\n",
       "      <td>com.google.android.apps.plus</td>\n",
       "      <td>Social</td>\n",
       "      <td>4.0</td>\n",
       "      <td>6359366.0</td>\n",
       "      <td>1000000000</td>\n",
       "      <td>1.000000e+09</td>\n",
       "      <td>3929716163</td>\n",
       "      <td>0.0</td>\n",
       "      <td>USD</td>\n",
       "      <td>...</td>\n",
       "      <td>Jun 07, 2021</td>\n",
       "      <td>Teen</td>\n",
       "      <td>http://www.google.com/policies/privacy</td>\n",
       "      <td>False</td>\n",
       "      <td>False</td>\n",
       "      <td>False</td>\n",
       "      <td>2021-06-16 14:03:43</td>\n",
       "      <td>Free</td>\n",
       "      <td>Free</td>\n",
       "      <td>More than 500K</td>\n",
       "    </tr>\n",
       "  </tbody>\n",
       "</table>\n",
       "<p>5 rows × 26 columns</p>\n",
       "</div>"
      ],
      "text/plain": [
       "                                         AppName  \\\n",
       "881403                                   YouTube   \n",
       "2222701                                 Facebook   \n",
       "167781   Google TV (previously Play Movies & TV)   \n",
       "1643722                        Google Play Games   \n",
       "1108596                                 Currents   \n",
       "\n",
       "                                 AppId                 Category  Rating  \\\n",
       "881403      com.google.android.youtube  Video Players & Editors     4.4   \n",
       "2222701            com.facebook.katana                   Social     2.3   \n",
       "167781       com.google.android.videos  Video Players & Editors     4.0   \n",
       "1643722  com.google.android.play.games            Entertainment     4.3   \n",
       "1108596   com.google.android.apps.plus                   Social     4.0   \n",
       "\n",
       "         RatingCount    Installs  MinimumInstalls  MaximumInstalls  Price  \\\n",
       "881403   112440547.0  5000000000     5.000000e+09       9766230924    0.0   \n",
       "2222701  117850066.0  5000000000     5.000000e+09       6782619635    0.0   \n",
       "167781     1825673.0  5000000000     5.000000e+09       6156518915    0.0   \n",
       "1643722   12016421.0  1000000000     1.000000e+09       4605543029    0.0   \n",
       "1108596    6359366.0  1000000000     1.000000e+09       3929716163    0.0   \n",
       "\n",
       "        Currency  ...   LastUpdated ContentRating  \\\n",
       "881403       USD  ...  Jun 16, 2021          Teen   \n",
       "2222701      USD  ...  Jun 16, 2021          Teen   \n",
       "167781       USD  ...  Jun 14, 2021          Teen   \n",
       "1643722      USD  ...  Apr 26, 2021          Teen   \n",
       "1108596      USD  ...  Jun 07, 2021          Teen   \n",
       "\n",
       "                                   PrivacyPolicy AdSupported InAppPurchases  \\\n",
       "881403    http://www.google.com/policies/privacy        True          False   \n",
       "2222701  https://www.facebook.com/about/privacy/        True           True   \n",
       "167781    http://www.google.com/policies/privacy       False          False   \n",
       "1643722   http://www.google.com/policies/privacy       False          False   \n",
       "1108596   http://www.google.com/policies/privacy       False          False   \n",
       "\n",
       "        EditorsChoice          ScrapedTime PriceRange  Type      RatingType  \n",
       "881403          False  2021-06-16 10:28:37       Free  Free  More than 500K  \n",
       "2222701         False  2021-06-16 11:40:20       Free  Free  More than 500K  \n",
       "167781          False  2021-06-15 23:07:22       Free  Free  More than 500K  \n",
       "1643722         False  2021-06-16 03:24:06       Free  Free  More than 500K  \n",
       "1108596         False  2021-06-16 14:03:43       Free  Free  More than 500K  \n",
       "\n",
       "[5 rows x 26 columns]"
      ]
     },
     "execution_count": 22,
     "metadata": {},
     "output_type": "execute_result"
    }
   ],
   "source": [
    "print('Top 3 choices of teens')\n",
    "adultTopChoices = df.loc[(df.ContentRating == 'Teen')]\n",
    "adultTopChoices.sort_values(by='MaximumInstalls',ascending=False).head(5)"
   ]
  },
  {
   "cell_type": "code",
   "execution_count": 23,
   "id": "55d6fcd8",
   "metadata": {
    "execution": {
     "iopub.execute_input": "2022-06-15T09:25:52.103435Z",
     "iopub.status.busy": "2022-06-15T09:25:52.102097Z",
     "iopub.status.idle": "2022-06-15T09:25:52.859629Z",
     "shell.execute_reply": "2022-06-15T09:25:52.858600Z"
    },
    "papermill": {
     "duration": 0.778189,
     "end_time": "2022-06-15T09:25:52.862277",
     "exception": false,
     "start_time": "2022-06-15T09:25:52.084088",
     "status": "completed"
    },
    "tags": []
   },
   "outputs": [
    {
     "name": "stdout",
     "output_type": "stream",
     "text": [
      "These 3 are the top 3 apps preferred by teens in educational category\n"
     ]
    },
    {
     "data": {
      "text/html": [
       "<div>\n",
       "<style scoped>\n",
       "    .dataframe tbody tr th:only-of-type {\n",
       "        vertical-align: middle;\n",
       "    }\n",
       "\n",
       "    .dataframe tbody tr th {\n",
       "        vertical-align: top;\n",
       "    }\n",
       "\n",
       "    .dataframe thead th {\n",
       "        text-align: right;\n",
       "    }\n",
       "</style>\n",
       "<table border=\"1\" class=\"dataframe\">\n",
       "  <thead>\n",
       "    <tr style=\"text-align: right;\">\n",
       "      <th></th>\n",
       "      <th>AppName</th>\n",
       "      <th>AppId</th>\n",
       "      <th>Category</th>\n",
       "      <th>Rating</th>\n",
       "      <th>RatingCount</th>\n",
       "      <th>Installs</th>\n",
       "      <th>MinimumInstalls</th>\n",
       "      <th>MaximumInstalls</th>\n",
       "      <th>Price</th>\n",
       "      <th>Currency</th>\n",
       "      <th>...</th>\n",
       "      <th>LastUpdated</th>\n",
       "      <th>ContentRating</th>\n",
       "      <th>PrivacyPolicy</th>\n",
       "      <th>AdSupported</th>\n",
       "      <th>InAppPurchases</th>\n",
       "      <th>EditorsChoice</th>\n",
       "      <th>ScrapedTime</th>\n",
       "      <th>PriceRange</th>\n",
       "      <th>Type</th>\n",
       "      <th>RatingType</th>\n",
       "    </tr>\n",
       "  </thead>\n",
       "  <tbody>\n",
       "    <tr>\n",
       "      <th>829069</th>\n",
       "      <td>Cake - Learn English for Free</td>\n",
       "      <td>me.mycake</td>\n",
       "      <td>Education</td>\n",
       "      <td>4.8</td>\n",
       "      <td>735158.0</td>\n",
       "      <td>50000000</td>\n",
       "      <td>50000000.0</td>\n",
       "      <td>69941784</td>\n",
       "      <td>0.0</td>\n",
       "      <td>USD</td>\n",
       "      <td>...</td>\n",
       "      <td>Jun 01, 2021</td>\n",
       "      <td>Teen</td>\n",
       "      <td>https://resource.mycake.me/res/privacy_en.html</td>\n",
       "      <td>True</td>\n",
       "      <td>False</td>\n",
       "      <td>False</td>\n",
       "      <td>2021-06-16 09:39:23</td>\n",
       "      <td>Free</td>\n",
       "      <td>Free</td>\n",
       "      <td>More than 500K</td>\n",
       "    </tr>\n",
       "    <tr>\n",
       "      <th>852875</th>\n",
       "      <td>MEB E-OKUL VBS</td>\n",
       "      <td>com.meb.vbsmobil</td>\n",
       "      <td>Education</td>\n",
       "      <td>2.6</td>\n",
       "      <td>293119.0</td>\n",
       "      <td>10000000</td>\n",
       "      <td>10000000.0</td>\n",
       "      <td>32462856</td>\n",
       "      <td>0.0</td>\n",
       "      <td>USD</td>\n",
       "      <td>...</td>\n",
       "      <td>Jun 18, 2020</td>\n",
       "      <td>Teen</td>\n",
       "      <td>http://www.meb.gov.tr</td>\n",
       "      <td>False</td>\n",
       "      <td>False</td>\n",
       "      <td>False</td>\n",
       "      <td>2021-06-16 10:01:53</td>\n",
       "      <td>Free</td>\n",
       "      <td>Free</td>\n",
       "      <td>Between 10K and 500K</td>\n",
       "    </tr>\n",
       "    <tr>\n",
       "      <th>356801</th>\n",
       "      <td>Hindi English Translator - English Dictionary</td>\n",
       "      <td>com.hindi.english.translate.language.word.dict...</td>\n",
       "      <td>Education</td>\n",
       "      <td>4.2</td>\n",
       "      <td>44998.0</td>\n",
       "      <td>10000000</td>\n",
       "      <td>10000000.0</td>\n",
       "      <td>22674157</td>\n",
       "      <td>0.0</td>\n",
       "      <td>USD</td>\n",
       "      <td>...</td>\n",
       "      <td>Jun 03, 2021</td>\n",
       "      <td>Teen</td>\n",
       "      <td>https://funnyvideostatus.blogspot.com/2018/02/...</td>\n",
       "      <td>True</td>\n",
       "      <td>True</td>\n",
       "      <td>False</td>\n",
       "      <td>2021-06-16 02:24:03</td>\n",
       "      <td>Free</td>\n",
       "      <td>Free</td>\n",
       "      <td>Between 10K and 500K</td>\n",
       "    </tr>\n",
       "  </tbody>\n",
       "</table>\n",
       "<p>3 rows × 26 columns</p>\n",
       "</div>"
      ],
      "text/plain": [
       "                                              AppName  \\\n",
       "829069                  Cake - Learn English for Free   \n",
       "852875                                 MEB E-OKUL VBS   \n",
       "356801  Hindi English Translator - English Dictionary   \n",
       "\n",
       "                                                    AppId   Category  Rating  \\\n",
       "829069                                          me.mycake  Education     4.8   \n",
       "852875                                   com.meb.vbsmobil  Education     2.6   \n",
       "356801  com.hindi.english.translate.language.word.dict...  Education     4.2   \n",
       "\n",
       "        RatingCount  Installs  MinimumInstalls  MaximumInstalls  Price  \\\n",
       "829069     735158.0  50000000       50000000.0         69941784    0.0   \n",
       "852875     293119.0  10000000       10000000.0         32462856    0.0   \n",
       "356801      44998.0  10000000       10000000.0         22674157    0.0   \n",
       "\n",
       "       Currency  ...   LastUpdated ContentRating  \\\n",
       "829069      USD  ...  Jun 01, 2021          Teen   \n",
       "852875      USD  ...  Jun 18, 2020          Teen   \n",
       "356801      USD  ...  Jun 03, 2021          Teen   \n",
       "\n",
       "                                            PrivacyPolicy AdSupported  \\\n",
       "829069     https://resource.mycake.me/res/privacy_en.html        True   \n",
       "852875                              http://www.meb.gov.tr       False   \n",
       "356801  https://funnyvideostatus.blogspot.com/2018/02/...        True   \n",
       "\n",
       "       InAppPurchases EditorsChoice          ScrapedTime PriceRange  Type  \\\n",
       "829069          False         False  2021-06-16 09:39:23       Free  Free   \n",
       "852875          False         False  2021-06-16 10:01:53       Free  Free   \n",
       "356801           True         False  2021-06-16 02:24:03       Free  Free   \n",
       "\n",
       "                  RatingType  \n",
       "829069        More than 500K  \n",
       "852875  Between 10K and 500K  \n",
       "356801  Between 10K and 500K  \n",
       "\n",
       "[3 rows x 26 columns]"
      ]
     },
     "execution_count": 23,
     "metadata": {},
     "output_type": "execute_result"
    }
   ],
   "source": [
    "print(\"These 3 are the top 3 apps preferred by teens in educational category\")\n",
    "EdMillionIns=df.loc[(df.Category == 'Education') & (df.ContentRating == 'Teen')]\n",
    "EdMillionIns.sort_values(by='MaximumInstalls',ascending=False ).head(3)"
   ]
  },
  {
   "cell_type": "code",
   "execution_count": 24,
   "id": "018dd06b",
   "metadata": {
    "execution": {
     "iopub.execute_input": "2022-06-15T09:25:52.895804Z",
     "iopub.status.busy": "2022-06-15T09:25:52.895196Z",
     "iopub.status.idle": "2022-06-15T09:25:53.275233Z",
     "shell.execute_reply": "2022-06-15T09:25:53.274318Z"
    },
    "papermill": {
     "duration": 0.399404,
     "end_time": "2022-06-15T09:25:53.277515",
     "exception": false,
     "start_time": "2022-06-15T09:25:52.878111",
     "status": "completed"
    },
    "tags": []
   },
   "outputs": [
    {
     "data": {
      "text/html": [
       "<div>\n",
       "<style scoped>\n",
       "    .dataframe tbody tr th:only-of-type {\n",
       "        vertical-align: middle;\n",
       "    }\n",
       "\n",
       "    .dataframe tbody tr th {\n",
       "        vertical-align: top;\n",
       "    }\n",
       "\n",
       "    .dataframe thead th {\n",
       "        text-align: right;\n",
       "    }\n",
       "</style>\n",
       "<table border=\"1\" class=\"dataframe\">\n",
       "  <thead>\n",
       "    <tr style=\"text-align: right;\">\n",
       "      <th></th>\n",
       "      <th>AppName</th>\n",
       "      <th>AppId</th>\n",
       "      <th>Category</th>\n",
       "      <th>Rating</th>\n",
       "      <th>RatingCount</th>\n",
       "      <th>Installs</th>\n",
       "      <th>MinimumInstalls</th>\n",
       "      <th>MaximumInstalls</th>\n",
       "      <th>Price</th>\n",
       "      <th>Currency</th>\n",
       "      <th>...</th>\n",
       "      <th>LastUpdated</th>\n",
       "      <th>ContentRating</th>\n",
       "      <th>PrivacyPolicy</th>\n",
       "      <th>AdSupported</th>\n",
       "      <th>InAppPurchases</th>\n",
       "      <th>EditorsChoice</th>\n",
       "      <th>ScrapedTime</th>\n",
       "      <th>PriceRange</th>\n",
       "      <th>Type</th>\n",
       "      <th>RatingType</th>\n",
       "    </tr>\n",
       "  </thead>\n",
       "  <tbody>\n",
       "    <tr>\n",
       "      <th>1584857</th>\n",
       "      <td>Chestionare Auto DRPCIV</td>\n",
       "      <td>com.crtmobile.chestionaredrpciv</td>\n",
       "      <td>Education</td>\n",
       "      <td>4.9</td>\n",
       "      <td>118059.0</td>\n",
       "      <td>1000000</td>\n",
       "      <td>1000000.0</td>\n",
       "      <td>3044664</td>\n",
       "      <td>0.0</td>\n",
       "      <td>USD</td>\n",
       "      <td>...</td>\n",
       "      <td>Jan 07, 2020</td>\n",
       "      <td>Everyone</td>\n",
       "      <td>http://chestionareauto.eu/privacy-policy-ro.html</td>\n",
       "      <td>True</td>\n",
       "      <td>False</td>\n",
       "      <td>False</td>\n",
       "      <td>2021-06-16 02:35:33</td>\n",
       "      <td>Free</td>\n",
       "      <td>Free</td>\n",
       "      <td>Between 10K and 500K</td>\n",
       "    </tr>\n",
       "    <tr>\n",
       "      <th>2008275</th>\n",
       "      <td>Skill Academy by Ruangguru</td>\n",
       "      <td>com.skillacademy.mobile</td>\n",
       "      <td>Education</td>\n",
       "      <td>4.9</td>\n",
       "      <td>416699.0</td>\n",
       "      <td>1000000</td>\n",
       "      <td>1000000.0</td>\n",
       "      <td>2394222</td>\n",
       "      <td>0.0</td>\n",
       "      <td>USD</td>\n",
       "      <td>...</td>\n",
       "      <td>Feb 25, 2021</td>\n",
       "      <td>Everyone</td>\n",
       "      <td>https://skillacademy.com/others/privacy-policy</td>\n",
       "      <td>False</td>\n",
       "      <td>False</td>\n",
       "      <td>False</td>\n",
       "      <td>2021-06-16 08:33:39</td>\n",
       "      <td>Free</td>\n",
       "      <td>Free</td>\n",
       "      <td>Between 10K and 500K</td>\n",
       "    </tr>\n",
       "    <tr>\n",
       "      <th>1528910</th>\n",
       "      <td>Билеты ПДД 2021+Экзамен ПДД</td>\n",
       "      <td>pdd.app.y2016.free</td>\n",
       "      <td>Education</td>\n",
       "      <td>4.9</td>\n",
       "      <td>151530.0</td>\n",
       "      <td>1000000</td>\n",
       "      <td>1000000.0</td>\n",
       "      <td>4862282</td>\n",
       "      <td>0.0</td>\n",
       "      <td>USD</td>\n",
       "      <td>...</td>\n",
       "      <td>Jun 05, 2021</td>\n",
       "      <td>Everyone</td>\n",
       "      <td>https://biletpdd.ru/pdd/privacy.html</td>\n",
       "      <td>True</td>\n",
       "      <td>False</td>\n",
       "      <td>False</td>\n",
       "      <td>2021-06-16 01:48:29</td>\n",
       "      <td>Free</td>\n",
       "      <td>Free</td>\n",
       "      <td>Between 10K and 500K</td>\n",
       "    </tr>\n",
       "  </tbody>\n",
       "</table>\n",
       "<p>3 rows × 26 columns</p>\n",
       "</div>"
      ],
      "text/plain": [
       "                             AppName                            AppId  \\\n",
       "1584857      Chestionare Auto DRPCIV  com.crtmobile.chestionaredrpciv   \n",
       "2008275   Skill Academy by Ruangguru          com.skillacademy.mobile   \n",
       "1528910  Билеты ПДД 2021+Экзамен ПДД               pdd.app.y2016.free   \n",
       "\n",
       "          Category  Rating  RatingCount  Installs  MinimumInstalls  \\\n",
       "1584857  Education     4.9     118059.0   1000000        1000000.0   \n",
       "2008275  Education     4.9     416699.0   1000000        1000000.0   \n",
       "1528910  Education     4.9     151530.0   1000000        1000000.0   \n",
       "\n",
       "         MaximumInstalls  Price Currency  ...   LastUpdated ContentRating  \\\n",
       "1584857          3044664    0.0      USD  ...  Jan 07, 2020      Everyone   \n",
       "2008275          2394222    0.0      USD  ...  Feb 25, 2021      Everyone   \n",
       "1528910          4862282    0.0      USD  ...  Jun 05, 2021      Everyone   \n",
       "\n",
       "                                            PrivacyPolicy AdSupported  \\\n",
       "1584857  http://chestionareauto.eu/privacy-policy-ro.html        True   \n",
       "2008275    https://skillacademy.com/others/privacy-policy       False   \n",
       "1528910              https://biletpdd.ru/pdd/privacy.html        True   \n",
       "\n",
       "        InAppPurchases EditorsChoice          ScrapedTime PriceRange  Type  \\\n",
       "1584857          False         False  2021-06-16 02:35:33       Free  Free   \n",
       "2008275          False         False  2021-06-16 08:33:39       Free  Free   \n",
       "1528910          False         False  2021-06-16 01:48:29       Free  Free   \n",
       "\n",
       "                   RatingType  \n",
       "1584857  Between 10K and 500K  \n",
       "2008275  Between 10K and 500K  \n",
       "1528910  Between 10K and 500K  \n",
       "\n",
       "[3 rows x 26 columns]"
      ]
     },
     "execution_count": 24,
     "metadata": {},
     "output_type": "execute_result"
    }
   ],
   "source": [
    "EdHighestRated=df.loc[(df.Category=='Education') & (df.RatingCount>100000)]\n",
    "EdHighestRated.sort_values(by='Rating',ascending=False).head(3)"
   ]
  },
  {
   "cell_type": "code",
   "execution_count": 25,
   "id": "d69ea132",
   "metadata": {
    "execution": {
     "iopub.execute_input": "2022-06-15T09:25:53.312324Z",
     "iopub.status.busy": "2022-06-15T09:25:53.311508Z",
     "iopub.status.idle": "2022-06-15T09:25:53.703854Z",
     "shell.execute_reply": "2022-06-15T09:25:53.702726Z"
    },
    "papermill": {
     "duration": 0.412293,
     "end_time": "2022-06-15T09:25:53.706224",
     "exception": false,
     "start_time": "2022-06-15T09:25:53.293931",
     "status": "completed"
    },
    "tags": []
   },
   "outputs": [
    {
     "name": "stdout",
     "output_type": "stream",
     "text": [
      "Top 3 choices of adults\n"
     ]
    },
    {
     "data": {
      "text/html": [
       "<div>\n",
       "<style scoped>\n",
       "    .dataframe tbody tr th:only-of-type {\n",
       "        vertical-align: middle;\n",
       "    }\n",
       "\n",
       "    .dataframe tbody tr th {\n",
       "        vertical-align: top;\n",
       "    }\n",
       "\n",
       "    .dataframe thead th {\n",
       "        text-align: right;\n",
       "    }\n",
       "</style>\n",
       "<table border=\"1\" class=\"dataframe\">\n",
       "  <thead>\n",
       "    <tr style=\"text-align: right;\">\n",
       "      <th></th>\n",
       "      <th>AppName</th>\n",
       "      <th>AppId</th>\n",
       "      <th>Category</th>\n",
       "      <th>Rating</th>\n",
       "      <th>RatingCount</th>\n",
       "      <th>Installs</th>\n",
       "      <th>MinimumInstalls</th>\n",
       "      <th>MaximumInstalls</th>\n",
       "      <th>Price</th>\n",
       "      <th>Currency</th>\n",
       "      <th>...</th>\n",
       "      <th>LastUpdated</th>\n",
       "      <th>ContentRating</th>\n",
       "      <th>PrivacyPolicy</th>\n",
       "      <th>AdSupported</th>\n",
       "      <th>InAppPurchases</th>\n",
       "      <th>EditorsChoice</th>\n",
       "      <th>ScrapedTime</th>\n",
       "      <th>PriceRange</th>\n",
       "      <th>Type</th>\n",
       "      <th>RatingType</th>\n",
       "    </tr>\n",
       "  </thead>\n",
       "  <tbody>\n",
       "    <tr>\n",
       "      <th>1772842</th>\n",
       "      <td>Yahoo Fantasy Sports: Football, Baseball &amp; More</td>\n",
       "      <td>com.yahoo.mobile.client.android.fantasyfootball</td>\n",
       "      <td>Sports</td>\n",
       "      <td>4.4</td>\n",
       "      <td>326264.0</td>\n",
       "      <td>10000000</td>\n",
       "      <td>10000000.0</td>\n",
       "      <td>10096439</td>\n",
       "      <td>0.0</td>\n",
       "      <td>USD</td>\n",
       "      <td>...</td>\n",
       "      <td>May 25, 2021</td>\n",
       "      <td>Adults</td>\n",
       "      <td>http://info.yahoo.com/privacy/us/yahoo/sports/...</td>\n",
       "      <td>True</td>\n",
       "      <td>True</td>\n",
       "      <td>False</td>\n",
       "      <td>2021-06-16 05:11:38</td>\n",
       "      <td>Free</td>\n",
       "      <td>Free</td>\n",
       "      <td>Between 10K and 500K</td>\n",
       "    </tr>\n",
       "    <tr>\n",
       "      <th>73178</th>\n",
       "      <td>DraftKings - Daily Fantasy Sports for Cash</td>\n",
       "      <td>com.draftkings.dknativermgGP</td>\n",
       "      <td>Sports</td>\n",
       "      <td>4.5</td>\n",
       "      <td>81954.0</td>\n",
       "      <td>1000000</td>\n",
       "      <td>1000000.0</td>\n",
       "      <td>4752559</td>\n",
       "      <td>0.0</td>\n",
       "      <td>USD</td>\n",
       "      <td>...</td>\n",
       "      <td>Jun 07, 2021</td>\n",
       "      <td>Adults</td>\n",
       "      <td>https://www.draftkings.com/help/privacynotice</td>\n",
       "      <td>True</td>\n",
       "      <td>False</td>\n",
       "      <td>False</td>\n",
       "      <td>2021-06-15 21:32:02</td>\n",
       "      <td>Free</td>\n",
       "      <td>Free</td>\n",
       "      <td>Between 10K and 500K</td>\n",
       "    </tr>\n",
       "    <tr>\n",
       "      <th>571340</th>\n",
       "      <td>FanDuel Fantasy Sports</td>\n",
       "      <td>com.fanduel.android.self</td>\n",
       "      <td>Sports</td>\n",
       "      <td>4.0</td>\n",
       "      <td>43071.0</td>\n",
       "      <td>1000000</td>\n",
       "      <td>1000000.0</td>\n",
       "      <td>3311043</td>\n",
       "      <td>0.0</td>\n",
       "      <td>USD</td>\n",
       "      <td>...</td>\n",
       "      <td>Jun 14, 2021</td>\n",
       "      <td>Adults</td>\n",
       "      <td>https://www.fanduel.com/privacy</td>\n",
       "      <td>False</td>\n",
       "      <td>False</td>\n",
       "      <td>False</td>\n",
       "      <td>2021-06-16 05:39:18</td>\n",
       "      <td>Free</td>\n",
       "      <td>Free</td>\n",
       "      <td>Between 10K and 500K</td>\n",
       "    </tr>\n",
       "  </tbody>\n",
       "</table>\n",
       "<p>3 rows × 26 columns</p>\n",
       "</div>"
      ],
      "text/plain": [
       "                                                 AppName  \\\n",
       "1772842  Yahoo Fantasy Sports: Football, Baseball & More   \n",
       "73178         DraftKings - Daily Fantasy Sports for Cash   \n",
       "571340                            FanDuel Fantasy Sports   \n",
       "\n",
       "                                                   AppId Category  Rating  \\\n",
       "1772842  com.yahoo.mobile.client.android.fantasyfootball   Sports     4.4   \n",
       "73178                       com.draftkings.dknativermgGP   Sports     4.5   \n",
       "571340                          com.fanduel.android.self   Sports     4.0   \n",
       "\n",
       "         RatingCount  Installs  MinimumInstalls  MaximumInstalls  Price  \\\n",
       "1772842     326264.0  10000000       10000000.0         10096439    0.0   \n",
       "73178        81954.0   1000000        1000000.0          4752559    0.0   \n",
       "571340       43071.0   1000000        1000000.0          3311043    0.0   \n",
       "\n",
       "        Currency  ...   LastUpdated ContentRating  \\\n",
       "1772842      USD  ...  May 25, 2021        Adults   \n",
       "73178        USD  ...  Jun 07, 2021        Adults   \n",
       "571340       USD  ...  Jun 14, 2021        Adults   \n",
       "\n",
       "                                             PrivacyPolicy AdSupported  \\\n",
       "1772842  http://info.yahoo.com/privacy/us/yahoo/sports/...        True   \n",
       "73178        https://www.draftkings.com/help/privacynotice        True   \n",
       "571340                     https://www.fanduel.com/privacy       False   \n",
       "\n",
       "        InAppPurchases EditorsChoice          ScrapedTime PriceRange  Type  \\\n",
       "1772842           True         False  2021-06-16 05:11:38       Free  Free   \n",
       "73178            False         False  2021-06-15 21:32:02       Free  Free   \n",
       "571340           False         False  2021-06-16 05:39:18       Free  Free   \n",
       "\n",
       "                   RatingType  \n",
       "1772842  Between 10K and 500K  \n",
       "73178    Between 10K and 500K  \n",
       "571340   Between 10K and 500K  \n",
       "\n",
       "[3 rows x 26 columns]"
      ]
     },
     "execution_count": 25,
     "metadata": {},
     "output_type": "execute_result"
    }
   ],
   "source": [
    "print('Top 3 choices of adults')\n",
    "adultTopChoices = df.loc[(df.ContentRating == 'Adults')]\n",
    "adultTopChoices.sort_values(by='MaximumInstalls',ascending=False).head(3)"
   ]
  },
  {
   "cell_type": "markdown",
   "id": "3c32b179",
   "metadata": {
    "papermill": {
     "duration": 0.016362,
     "end_time": "2022-06-15T09:25:53.739823",
     "exception": false,
     "start_time": "2022-06-15T09:25:53.723461",
     "status": "completed"
    },
    "tags": []
   },
   "source": [
    "## Share"
   ]
  },
  {
   "cell_type": "code",
   "execution_count": 26,
   "id": "75364940",
   "metadata": {
    "execution": {
     "iopub.execute_input": "2022-06-15T09:25:53.775020Z",
     "iopub.status.busy": "2022-06-15T09:25:53.774312Z",
     "iopub.status.idle": "2022-06-15T09:25:54.396700Z",
     "shell.execute_reply": "2022-06-15T09:25:54.395665Z"
    },
    "papermill": {
     "duration": 0.643344,
     "end_time": "2022-06-15T09:25:54.399811",
     "exception": false,
     "start_time": "2022-06-15T09:25:53.756467",
     "status": "completed"
    },
    "tags": []
   },
   "outputs": [
    {
     "data": {
      "text/plain": [
       "(array([0, 1, 2]),\n",
       " [Text(0, 0, 'Education'), Text(1, 0, 'Music & Audio'), Text(2, 0, 'Tools')])"
      ]
     },
     "execution_count": 26,
     "metadata": {},
     "output_type": "execute_result"
    },
    {
     "data": {
      "image/png": "[encoded data removed]",
      "text/plain": [
       "<Figure size 432x432 with 1 Axes>"
      ]
     },
     "metadata": {
      "needs_background": "light"
     },
     "output_type": "display_data"
    }
   ],
   "source": [
    "top3cat=df.Category.value_counts().head(3)\n",
    "top3cat.plot(kind='bar', figsize=(6,6))\n",
    "plt.title(\"Top 3 Categories\")\n",
    "plt.xlabel(\"Categories\")\n",
    "plt.ylabel(\"Count\")\n",
    "plt.xticks(rotation=0)"
   ]
  },
  {
   "cell_type": "code",
   "execution_count": 27,
   "id": "1dfc0eb4",
   "metadata": {
    "execution": {
     "iopub.execute_input": "2022-06-15T09:25:54.443200Z",
     "iopub.status.busy": "2022-06-15T09:25:54.442299Z",
     "iopub.status.idle": "2022-06-15T09:25:55.293394Z",
     "shell.execute_reply": "2022-06-15T09:25:55.292104Z"
    },
    "papermill": {
     "duration": 0.873904,
     "end_time": "2022-06-15T09:25:55.295852",
     "exception": false,
     "start_time": "2022-06-15T09:25:54.421948",
     "status": "completed"
    },
    "tags": []
   },
   "outputs": [
    {
     "name": "stderr",
     "output_type": "stream",
     "text": [
      "/opt/conda/lib/python3.7/site-packages/seaborn/_decorators.py:43: FutureWarning: Pass the following variables as keyword args: x, y. From version 0.12, the only valid positional argument will be `data`, and passing other arguments without an explicit keyword will result in an error or misinterpretation.\n",
      "  FutureWarning\n"
     ]
    },
    {
     "data": {
      "text/plain": [
       "(array([ 0,  1,  2,  3,  4,  5,  6,  7,  8,  9, 10, 11, 12, 13, 14, 15, 16,\n",
       "        17, 18, 19, 20, 21, 22, 23, 24, 25, 26, 27, 28, 29, 30, 31, 32, 33,\n",
       "        34, 35, 36, 37, 38, 39, 40, 41, 42, 43, 44, 45, 46, 47]),\n",
       " [Text(0, 0, 'Action'),\n",
       "  Text(1, 0, 'Adventure'),\n",
       "  Text(2, 0, 'Arcade'),\n",
       "  Text(3, 0, 'Art & Design'),\n",
       "  Text(4, 0, 'Auto & Vehicles'),\n",
       "  Text(5, 0, 'Beauty'),\n",
       "  Text(6, 0, 'Board'),\n",
       "  Text(7, 0, 'Books & Reference'),\n",
       "  Text(8, 0, 'Business'),\n",
       "  Text(9, 0, 'Card'),\n",
       "  Text(10, 0, 'Casino'),\n",
       "  Text(11, 0, 'Casual'),\n",
       "  Text(12, 0, 'Comics'),\n",
       "  Text(13, 0, 'Communication'),\n",
       "  Text(14, 0, 'Dating'),\n",
       "  Text(15, 0, 'Education'),\n",
       "  Text(16, 0, 'Educational'),\n",
       "  Text(17, 0, 'Entertainment'),\n",
       "  Text(18, 0, 'Events'),\n",
       "  Text(19, 0, 'Finance'),\n",
       "  Text(20, 0, 'Food & Drink'),\n",
       "  Text(21, 0, 'Health & Fitness'),\n",
       "  Text(22, 0, 'House & Home'),\n",
       "  Text(23, 0, 'Libraries & Demo'),\n",
       "  Text(24, 0, 'Lifestyle'),\n",
       "  Text(25, 0, 'Maps & Navigation'),\n",
       "  Text(26, 0, 'Medical'),\n",
       "  Text(27, 0, 'Music'),\n",
       "  Text(28, 0, 'Music & Audio'),\n",
       "  Text(29, 0, 'News & Magazines'),\n",
       "  Text(30, 0, 'Parenting'),\n",
       "  Text(31, 0, 'Personalization'),\n",
       "  Text(32, 0, 'Photography'),\n",
       "  Text(33, 0, 'Productivity'),\n",
       "  Text(34, 0, 'Puzzle'),\n",
       "  Text(35, 0, 'Racing'),\n",
       "  Text(36, 0, 'Role Playing'),\n",
       "  Text(37, 0, 'Shopping'),\n",
       "  Text(38, 0, 'Simulation'),\n",
       "  Text(39, 0, 'Social'),\n",
       "  Text(40, 0, 'Sports'),\n",
       "  Text(41, 0, 'Strategy'),\n",
       "  Text(42, 0, 'Tools'),\n",
       "  Text(43, 0, 'Travel & Local'),\n",
       "  Text(44, 0, 'Trivia'),\n",
       "  Text(45, 0, 'Video Players & Editors'),\n",
       "  Text(46, 0, 'Weather'),\n",
       "  Text(47, 0, 'Word')])"
      ]
     },
     "execution_count": 27,
     "metadata": {},
     "output_type": "execute_result"
    },
    {
     "data": {
      "image/png": "[encoded data removed]",
      "text/plain": [
       "<Figure size 1080x1080 with 1 Axes>"
      ]
     },
     "metadata": {
      "needs_background": "light"
     },
     "output_type": "display_data"
    }
   ],
   "source": [
    "category_rating = df.groupby(['Category'])['Installs'].count()\n",
    "plt.figure(figsize=(15,15))\n",
    "sns.barplot(category_rating.index, category_rating.values)\n",
    "plt.xticks(rotation=90)"
   ]
  },
  {
   "cell_type": "markdown",
   "id": "e4b5d0f0",
   "metadata": {
    "papermill": {
     "duration": 0.01767,
     "end_time": "2022-06-15T09:25:55.332043",
     "exception": false,
     "start_time": "2022-06-15T09:25:55.314373",
     "status": "completed"
    },
    "tags": []
   },
   "source": [
    "This graph shows us that the educational category is rated the most in terms of the rating counts.\n",
    "This clearly shows that the customers that install the educational apps are much likely to give a review."
   ]
  },
  {
   "cell_type": "code",
   "execution_count": 28,
   "id": "187974ec",
   "metadata": {
    "execution": {
     "iopub.execute_input": "2022-06-15T09:25:55.371542Z",
     "iopub.status.busy": "2022-06-15T09:25:55.370877Z",
     "iopub.status.idle": "2022-06-15T09:26:27.363851Z",
     "shell.execute_reply": "2022-06-15T09:26:27.362867Z"
    },
    "papermill": {
     "duration": 32.016644,
     "end_time": "2022-06-15T09:26:27.366675",
     "exception": false,
     "start_time": "2022-06-15T09:25:55.350031",
     "status": "completed"
    },
    "tags": []
   },
   "outputs": [
    {
     "data": {
      "text/plain": [
       "<AxesSubplot:xlabel='Rating', ylabel='Category'>"
      ]
     },
     "execution_count": 28,
     "metadata": {},
     "output_type": "execute_result"
    },
    {
     "data": {
      "image/png": "[encoded data removed]",
      "text/plain": [
       "<Figure size 864x1152 with 1 Axes>"
      ]
     },
     "metadata": {
      "needs_background": "light"
     },
     "output_type": "display_data"
    }
   ],
   "source": [
    "plt.figure(figsize=(12,16))\n",
    "sns.barplot(x=df['Rating'], y=df.Category)"
   ]
  },
  {
   "cell_type": "markdown",
   "id": "59c1e8e6",
   "metadata": {
    "papermill": {
     "duration": 0.019366,
     "end_time": "2022-06-15T09:26:27.406249",
     "exception": false,
     "start_time": "2022-06-15T09:26:27.386883",
     "status": "completed"
    },
    "tags": []
   },
   "source": [
    "This graph shows us that on an average basis the Role Playing app type have the highest rating."
   ]
  },
  {
   "cell_type": "code",
   "execution_count": 29,
   "id": "1c1626ea",
   "metadata": {
    "execution": {
     "iopub.execute_input": "2022-06-15T09:26:27.447561Z",
     "iopub.status.busy": "2022-06-15T09:26:27.446323Z",
     "iopub.status.idle": "2022-06-15T09:27:30.047063Z",
     "shell.execute_reply": "2022-06-15T09:27:30.045376Z"
    },
    "papermill": {
     "duration": 62.65154,
     "end_time": "2022-06-15T09:27:30.077143",
     "exception": false,
     "start_time": "2022-06-15T09:26:27.425603",
     "status": "completed"
    },
    "tags": []
   },
   "outputs": [
    {
     "data": {
      "text/plain": [
       "<AxesSubplot:xlabel='MaximumInstalls', ylabel='RatingCount'>"
      ]
     },
     "execution_count": 29,
     "metadata": {},
     "output_type": "execute_result"
    },
    {
     "data": {
      "image/png": "[encoded data removed]",
      "text/plain": [
       "<Figure size 576x576 with 1 Axes>"
      ]
     },
     "metadata": {
      "needs_background": "light"
     },
     "output_type": "display_data"
    }
   ],
   "source": [
    "plt.figure(figsize=(8,8))\n",
    "sns.scatterplot(x='MaximumInstalls',y='RatingCount',data=df,hue='ContentRating')"
   ]
  },
  {
   "cell_type": "markdown",
   "id": "0ee48c84",
   "metadata": {
    "papermill": {
     "duration": 0.02039,
     "end_time": "2022-06-15T09:27:30.118273",
     "exception": false,
     "start_time": "2022-06-15T09:27:30.097883",
     "status": "completed"
    },
    "tags": []
   },
   "source": [
    "This scatterplot shows us that when we exclude everyone and only focus on teen, matures and adult we can see that teens have much engagement in terms of download and rating count."
   ]
  },
  {
   "cell_type": "code",
   "execution_count": 30,
   "id": "8f04351d",
   "metadata": {
    "execution": {
     "iopub.execute_input": "2022-06-15T09:27:30.163855Z",
     "iopub.status.busy": "2022-06-15T09:27:30.162692Z",
     "iopub.status.idle": "2022-06-15T09:27:41.341993Z",
     "shell.execute_reply": "2022-06-15T09:27:41.340473Z"
    },
    "papermill": {
     "duration": 11.205206,
     "end_time": "2022-06-15T09:27:41.344656",
     "exception": false,
     "start_time": "2022-06-15T09:27:30.139450",
     "status": "completed"
    },
    "tags": []
   },
   "outputs": [
    {
     "data": {
      "text/plain": [
       "<AxesSubplot:xlabel='Rating', ylabel='Count'>"
      ]
     },
     "execution_count": 30,
     "metadata": {},
     "output_type": "execute_result"
    },
    {
     "data": {
      "image/png": "[encoded data removed]",
      "text/plain": [
       "<Figure size 432x288 with 1 Axes>"
      ]
     },
     "metadata": {
      "needs_background": "light"
     },
     "output_type": "display_data"
    }
   ],
   "source": [
    "sns.histplot(df.Rating,kde=True,bins=5)"
   ]
  },
  {
   "cell_type": "markdown",
   "id": "bdb37c7f",
   "metadata": {
    "papermill": {
     "duration": 0.02021,
     "end_time": "2022-06-15T09:27:41.386162",
     "exception": false,
     "start_time": "2022-06-15T09:27:41.365952",
     "status": "completed"
    },
    "tags": []
   },
   "source": [
    "Most people does not give a rating. \n",
    "But one more thing that comes out from this graph as well is that people tend to give 4+ rating the most. "
   ]
  },
  {
   "cell_type": "code",
   "execution_count": 31,
   "id": "e2609f8f",
   "metadata": {
    "execution": {
     "iopub.execute_input": "2022-06-15T09:27:41.432292Z",
     "iopub.status.busy": "2022-06-15T09:27:41.431428Z",
     "iopub.status.idle": "2022-06-15T09:27:42.191902Z",
     "shell.execute_reply": "2022-06-15T09:27:42.190903Z"
    },
    "papermill": {
     "duration": 0.786321,
     "end_time": "2022-06-15T09:27:42.194476",
     "exception": false,
     "start_time": "2022-06-15T09:27:41.408155",
     "status": "completed"
    },
    "tags": []
   },
   "outputs": [
    {
     "data": {
      "text/html": [
       "<div>\n",
       "<style scoped>\n",
       "    .dataframe tbody tr th:only-of-type {\n",
       "        vertical-align: middle;\n",
       "    }\n",
       "\n",
       "    .dataframe tbody tr th {\n",
       "        vertical-align: top;\n",
       "    }\n",
       "\n",
       "    .dataframe thead th {\n",
       "        text-align: right;\n",
       "    }\n",
       "</style>\n",
       "<table border=\"1\" class=\"dataframe\">\n",
       "  <thead>\n",
       "    <tr style=\"text-align: right;\">\n",
       "      <th></th>\n",
       "      <th>Rating</th>\n",
       "      <th>RatingCount</th>\n",
       "      <th>Installs</th>\n",
       "      <th>MinimumInstalls</th>\n",
       "      <th>MaximumInstalls</th>\n",
       "      <th>Price</th>\n",
       "      <th>AdSupported</th>\n",
       "      <th>InAppPurchases</th>\n",
       "      <th>EditorsChoice</th>\n",
       "    </tr>\n",
       "  </thead>\n",
       "  <tbody>\n",
       "    <tr>\n",
       "      <th>Rating</th>\n",
       "      <td>1.000000</td>\n",
       "      <td>0.013038</td>\n",
       "      <td>0.011214</td>\n",
       "      <td>0.011214</td>\n",
       "      <td>0.012615</td>\n",
       "      <td>-0.003674</td>\n",
       "      <td>0.160502</td>\n",
       "      <td>0.153821</td>\n",
       "      <td>0.019485</td>\n",
       "    </tr>\n",
       "    <tr>\n",
       "      <th>RatingCount</th>\n",
       "      <td>0.013038</td>\n",
       "      <td>1.000000</td>\n",
       "      <td>0.545281</td>\n",
       "      <td>0.545281</td>\n",
       "      <td>0.547571</td>\n",
       "      <td>-0.000411</td>\n",
       "      <td>0.005294</td>\n",
       "      <td>0.025737</td>\n",
       "      <td>0.137311</td>\n",
       "    </tr>\n",
       "    <tr>\n",
       "      <th>Installs</th>\n",
       "      <td>0.011214</td>\n",
       "      <td>0.545281</td>\n",
       "      <td>1.000000</td>\n",
       "      <td>1.000000</td>\n",
       "      <td>0.954037</td>\n",
       "      <td>-0.000461</td>\n",
       "      <td>0.002249</td>\n",
       "      <td>0.014179</td>\n",
       "      <td>0.059932</td>\n",
       "    </tr>\n",
       "    <tr>\n",
       "      <th>MinimumInstalls</th>\n",
       "      <td>0.011214</td>\n",
       "      <td>0.545281</td>\n",
       "      <td>1.000000</td>\n",
       "      <td>1.000000</td>\n",
       "      <td>0.954037</td>\n",
       "      <td>-0.000461</td>\n",
       "      <td>0.002249</td>\n",
       "      <td>0.014179</td>\n",
       "      <td>0.059932</td>\n",
       "    </tr>\n",
       "    <tr>\n",
       "      <th>MaximumInstalls</th>\n",
       "      <td>0.012615</td>\n",
       "      <td>0.547571</td>\n",
       "      <td>0.954037</td>\n",
       "      <td>0.954037</td>\n",
       "      <td>1.000000</td>\n",
       "      <td>-0.000515</td>\n",
       "      <td>0.002881</td>\n",
       "      <td>0.016100</td>\n",
       "      <td>0.064206</td>\n",
       "    </tr>\n",
       "    <tr>\n",
       "      <th>Price</th>\n",
       "      <td>-0.003674</td>\n",
       "      <td>-0.000411</td>\n",
       "      <td>-0.000461</td>\n",
       "      <td>-0.000461</td>\n",
       "      <td>-0.000515</td>\n",
       "      <td>1.000000</td>\n",
       "      <td>-0.034280</td>\n",
       "      <td>-0.002636</td>\n",
       "      <td>0.000503</td>\n",
       "    </tr>\n",
       "    <tr>\n",
       "      <th>AdSupported</th>\n",
       "      <td>0.160502</td>\n",
       "      <td>0.005294</td>\n",
       "      <td>0.002249</td>\n",
       "      <td>0.002249</td>\n",
       "      <td>0.002881</td>\n",
       "      <td>-0.034280</td>\n",
       "      <td>1.000000</td>\n",
       "      <td>0.138308</td>\n",
       "      <td>0.005701</td>\n",
       "    </tr>\n",
       "    <tr>\n",
       "      <th>InAppPurchases</th>\n",
       "      <td>0.153821</td>\n",
       "      <td>0.025737</td>\n",
       "      <td>0.014179</td>\n",
       "      <td>0.014179</td>\n",
       "      <td>0.016100</td>\n",
       "      <td>-0.002636</td>\n",
       "      <td>0.138308</td>\n",
       "      <td>1.000000</td>\n",
       "      <td>0.046077</td>\n",
       "    </tr>\n",
       "    <tr>\n",
       "      <th>EditorsChoice</th>\n",
       "      <td>0.019485</td>\n",
       "      <td>0.137311</td>\n",
       "      <td>0.059932</td>\n",
       "      <td>0.059932</td>\n",
       "      <td>0.064206</td>\n",
       "      <td>0.000503</td>\n",
       "      <td>0.005701</td>\n",
       "      <td>0.046077</td>\n",
       "      <td>1.000000</td>\n",
       "    </tr>\n",
       "  </tbody>\n",
       "</table>\n",
       "</div>"
      ],
      "text/plain": [
       "                   Rating  RatingCount  Installs  MinimumInstalls  \\\n",
       "Rating           1.000000     0.013038  0.011214         0.011214   \n",
       "RatingCount      0.013038     1.000000  0.545281         0.545281   \n",
       "Installs         0.011214     0.545281  1.000000         1.000000   \n",
       "MinimumInstalls  0.011214     0.545281  1.000000         1.000000   \n",
       "MaximumInstalls  0.012615     0.547571  0.954037         0.954037   \n",
       "Price           -0.003674    -0.000411 -0.000461        -0.000461   \n",
       "AdSupported      0.160502     0.005294  0.002249         0.002249   \n",
       "InAppPurchases   0.153821     0.025737  0.014179         0.014179   \n",
       "EditorsChoice    0.019485     0.137311  0.059932         0.059932   \n",
       "\n",
       "                 MaximumInstalls     Price  AdSupported  InAppPurchases  \\\n",
       "Rating                  0.012615 -0.003674     0.160502        0.153821   \n",
       "RatingCount             0.547571 -0.000411     0.005294        0.025737   \n",
       "Installs                0.954037 -0.000461     0.002249        0.014179   \n",
       "MinimumInstalls         0.954037 -0.000461     0.002249        0.014179   \n",
       "MaximumInstalls         1.000000 -0.000515     0.002881        0.016100   \n",
       "Price                  -0.000515  1.000000    -0.034280       -0.002636   \n",
       "AdSupported             0.002881 -0.034280     1.000000        0.138308   \n",
       "InAppPurchases          0.016100 -0.002636     0.138308        1.000000   \n",
       "EditorsChoice           0.064206  0.000503     0.005701        0.046077   \n",
       "\n",
       "                 EditorsChoice  \n",
       "Rating                0.019485  \n",
       "RatingCount           0.137311  \n",
       "Installs              0.059932  \n",
       "MinimumInstalls       0.059932  \n",
       "MaximumInstalls       0.064206  \n",
       "Price                 0.000503  \n",
       "AdSupported           0.005701  \n",
       "InAppPurchases        0.046077  \n",
       "EditorsChoice         1.000000  "
      ]
     },
     "execution_count": 31,
     "metadata": {},
     "output_type": "execute_result"
    }
   ],
   "source": [
    "df.corr()"
   ]
  },
  {
   "cell_type": "code",
   "execution_count": 32,
   "id": "1cde634c",
   "metadata": {
    "execution": {
     "iopub.execute_input": "2022-06-15T09:27:42.238702Z",
     "iopub.status.busy": "2022-06-15T09:27:42.238282Z",
     "iopub.status.idle": "2022-06-15T09:27:43.585351Z",
     "shell.execute_reply": "2022-06-15T09:27:43.583870Z"
    },
    "papermill": {
     "duration": 1.371768,
     "end_time": "2022-06-15T09:27:43.587743",
     "exception": false,
     "start_time": "2022-06-15T09:27:42.215975",
     "status": "completed"
    },
    "tags": []
   },
   "outputs": [
    {
     "data": {
      "text/plain": [
       "<AxesSubplot:>"
      ]
     },
     "execution_count": 32,
     "metadata": {},
     "output_type": "execute_result"
    },
    {
     "data": {
      "image/png": "[encoded data removed]",
      "text/plain": [
       "<Figure size 576x432 with 2 Axes>"
      ]
     },
     "metadata": {
      "needs_background": "light"
     },
     "output_type": "display_data"
    }
   ],
   "source": [
    "plt.figure(figsize=(8,6))\n",
    "sns.heatmap(df.corr(),annot=True,cmap='coolwarm')"
   ]
  },
  {
   "cell_type": "code",
   "execution_count": 33,
   "id": "c7ca635f",
   "metadata": {
    "execution": {
     "iopub.execute_input": "2022-06-15T09:27:43.635069Z",
     "iopub.status.busy": "2022-06-15T09:27:43.634374Z",
     "iopub.status.idle": "2022-06-15T09:27:44.631918Z",
     "shell.execute_reply": "2022-06-15T09:27:44.629238Z"
    },
    "papermill": {
     "duration": 1.02395,
     "end_time": "2022-06-15T09:27:44.634674",
     "exception": false,
     "start_time": "2022-06-15T09:27:43.610724",
     "status": "completed"
    },
    "tags": []
   },
   "outputs": [
    {
     "data": {
      "image/png": "[encoded data removed]",
      "text/plain": [
       "<Figure size 432x288 with 1 Axes>"
      ]
     },
     "metadata": {
      "needs_background": "light"
     },
     "output_type": "display_data"
    }
   ],
   "source": [
    "paid_apps = df[(df.Type=='Paid') & (df.Installs == 5000000) | ((df.Type=='Paid') & (df.Installs == 10000000))]\n",
    "paid_apps = paid_apps.groupby(['AppName'])['Rating'].max().sort_values(ascending=False)\n",
    "paid_apps = paid_apps.head(10)\n",
    "plt.title(\"Top Paid Apps based on highest ratings and installs\")\n",
    "\n",
    "ax = sns.lineplot(x=paid_apps.values,y=paid_apps.index,color='Red');\n"
   ]
  },
  {
   "cell_type": "code",
   "execution_count": 34,
   "id": "329c1ebc",
   "metadata": {
    "execution": {
     "iopub.execute_input": "2022-06-15T09:27:44.690068Z",
     "iopub.status.busy": "2022-06-15T09:27:44.689056Z",
     "iopub.status.idle": "2022-06-15T09:27:45.805791Z",
     "shell.execute_reply": "2022-06-15T09:27:45.804757Z"
    },
    "papermill": {
     "duration": 1.149725,
     "end_time": "2022-06-15T09:27:45.810776",
     "exception": false,
     "start_time": "2022-06-15T09:27:44.661051",
     "status": "completed"
    },
    "tags": []
   },
   "outputs": [
    {
     "data": {
      "image/png": "[encoded data removed]",
      "text/plain": [
       "<Figure size 432x288 with 1 Axes>"
      ]
     },
     "metadata": {
      "needs_background": "light"
     },
     "output_type": "display_data"
    }
   ],
   "source": [
    "free_apps = df[(df.Type=='Free') & (df.Installs == 5000000) | ((df.Type=='Free') & (df.Installs == 10000000))]\n",
    "free_apps = free_apps.groupby(['AppName'])['Rating'].max().sort_values(ascending=False)\n",
    "free_apps = free_apps.head(5)\n",
    "plt.title(\"Top Free Apps based on highest ratings and installs\")\n",
    "\n",
    "ax = sns.lineplot(x=free_apps.values,y=free_apps.index,color='blue');"
   ]
  },
  {
   "cell_type": "code",
   "execution_count": 35,
   "id": "28f924d0",
   "metadata": {
    "execution": {
     "iopub.execute_input": "2022-06-15T09:27:45.870241Z",
     "iopub.status.busy": "2022-06-15T09:27:45.869812Z",
     "iopub.status.idle": "2022-06-15T09:27:46.941256Z",
     "shell.execute_reply": "2022-06-15T09:27:46.939796Z"
    },
    "papermill": {
     "duration": 1.107445,
     "end_time": "2022-06-15T09:27:46.946363",
     "exception": false,
     "start_time": "2022-06-15T09:27:45.838918",
     "status": "completed"
    },
    "tags": []
   },
   "outputs": [
    {
     "data": {
      "image/png": "[encoded data removed]",
      "text/plain": [
       "<Figure size 720x432 with 1 Axes>"
      ]
     },
     "metadata": {},
     "output_type": "display_data"
    }
   ],
   "source": [
    "TeenCatPre= df[(df.ContentRating=='Teen')]\n",
    "TeenCatPre= TeenCatPre.groupby(['Category'])['MaximumInstalls'].max().sort_values(ascending=False)\n",
    "TeenCatPre= TeenCatPre.head(10)\n",
    "pie, ax = plt.subplots(figsize=[10,6])\n",
    "labels = TeenCatPre.keys()\n",
    "plt.pie(x=TeenCatPre, autopct=\"%.1f%%\", explode=[0.05]*10, labels=labels, pctdistance=0.5)\n",
    "plt.title(\"Teens Installing apps in terms of category\", fontsize=14);\n",
    "#print(\"Rest of the category Have a low significance so they are not included.\")"
   ]
  },
  {
   "cell_type": "code",
   "execution_count": 36,
   "id": "754244ce",
   "metadata": {
    "execution": {
     "iopub.execute_input": "2022-06-15T09:27:47.012336Z",
     "iopub.status.busy": "2022-06-15T09:27:47.011644Z",
     "iopub.status.idle": "2022-06-15T09:27:47.583174Z",
     "shell.execute_reply": "2022-06-15T09:27:47.581671Z"
    },
    "papermill": {
     "duration": 0.606757,
     "end_time": "2022-06-15T09:27:47.590199",
     "exception": false,
     "start_time": "2022-06-15T09:27:46.983442",
     "status": "completed"
    },
    "tags": []
   },
   "outputs": [
    {
     "data": {
      "image/png": "[encoded data removed]",
      "text/plain": [
       "<Figure size 864x576 with 1 Axes>"
      ]
     },
     "metadata": {},
     "output_type": "display_data"
    }
   ],
   "source": [
    "AdultsCatPre= df[(df.ContentRating=='Adults')]\n",
    "AdultsCatPre= AdultsCatPre.groupby(['Category'])['MaximumInstalls'].max().sort_values(ascending=False)\n",
    "AdultsCatPre= AdultsCatPre.head(10)\n",
    "pie, ax = plt.subplots(figsize=[12,8])\n",
    "labels = AdultsCatPre.keys()\n",
    "plt.pie(x=AdultsCatPre, autopct=\"%.1f%%\", explode=[0.05]*10, labels=labels, pctdistance=0.5)\n",
    "plt.title(\"Everyone Installing apps in terms of category\", fontsize=14);"
   ]
  },
  {
   "cell_type": "markdown",
   "id": "1ea8740e",
   "metadata": {
    "papermill": {
     "duration": 0.026945,
     "end_time": "2022-06-15T09:27:47.649200",
     "exception": false,
     "start_time": "2022-06-15T09:27:47.622255",
     "status": "completed"
    },
    "tags": []
   },
   "source": [
    "## Act"
   ]
  },
  {
   "cell_type": "markdown",
   "id": "e20dbf18",
   "metadata": {
    "papermill": {
     "duration": 0.026837,
     "end_time": "2022-06-15T09:27:47.703213",
     "exception": false,
     "start_time": "2022-06-15T09:27:47.676376",
     "status": "completed"
    },
    "tags": []
   },
   "source": [
    "**Q1. What category is preferred the most.**  \n",
    "*Education category is preffered the most. We came to this conclusion after viewing the installation rate and comparing with other categories.*  \n",
    "**Q2. What factors are responsible for higher app rating by coutomers.**  \n",
    "*Factors like AdSupport and InappPurchases are correlated to app rating. So we can say that if the app provides customer support and have subscription plans we can engage more customers. \n",
    "We can also see from the same graph that the editor's choice plays a important role as well. With high editor choice we can see high ratings count and high installs.*   \n",
    "**Q3. What features can be added to a educational app to engage more teen students.**  \n",
    "*The maximum app install teen is doing is from video player and editor, social and entertainment category. So if a educational app want to maximize their engagement among teens, they can include:*  \n",
    "1. Video lectures to have an escene of video player and editor category.\n",
    "2. Chat groups where teens can share their views and ask for help. This will cover some features of social category.\n",
    "3. Short educational videos like youtube shorts and instagram reels can also be added.  \n",
    "**Q4. What kind of apps should target adults.**  \n",
    "*We can see that from top 10 categories of adult choices the most installed is the sports category. This proved that adults are much into sports. Combinig Lifestyle and communication as one we can say they also have a significant number.*   \n",
    "**Q5. What are the top 5 paid apps in terms of rating and installs.**     \n",
    "                     ![Graph](./out.png)  "
   ]
  }
 ],
 "metadata": {
  "kernelspec": {
   "display_name": "Python 3",
   "language": "python",
   "name": "python3"
  },
  "language_info": {
   "codemirror_mode": {
    "name": "ipython",
    "version": 3
   },
   "file_extension": ".py",
   "mimetype": "text/x-python",
   "name": "python",
   "nbconvert_exporter": "python",
   "pygments_lexer": "ipython3",
   "version": "3.7.12"
  },
  "papermill": {
   "default_parameters": {},
   "duration": 214.629402,
   "end_time": "2022-06-15T09:27:49.758211",
   "environment_variables": {},
   "exception": null,
   "input_path": "__notebook__.ipynb",
   "output_path": "__notebook__.ipynb",
   "parameters": {},
   "start_time": "2022-06-15T09:24:15.128809",
   "version": "2.3.4"
  }
 },
 "nbformat": 4,
 "nbformat_minor": 5
}
